{
 "cells": [
  {
   "cell_type": "markdown",
   "metadata": {},
   "source": [
    "<h1>Assignment 2 Group 10 (Renk, Leon and Payal) </h1>"
   ]
  },
  {
   "cell_type": "code",
   "execution_count": 2,
   "metadata": {},
   "outputs": [],
   "source": [
    "import tarfile\n",
    "import pandas as pd\n",
    "import os"
   ]
  },
  {
   "cell_type": "code",
   "execution_count": 3,
   "metadata": {},
   "outputs": [
    {
     "data": {
      "text/plain": [
       "7909"
      ]
     },
     "execution_count": 3,
     "metadata": {},
     "output_type": "execute_result"
    }
   ],
   "source": [
    "def count_png_files_in_folder(folder_path):\n",
    "    png_count = 0\n",
    "    \n",
    "    for root, dirs, files in os.walk(folder_path):\n",
    "        png_count += sum(1 for file in files if file.endswith('.png'))\n",
    "    return png_count\n",
    "\n",
    "count_png_files_in_folder(\"/Users/renkasik/Desktop/Intro To Focus Areas/data/BreaKHis_v1\")\n"
   ]
  },
  {
   "cell_type": "markdown",
   "metadata": {},
   "source": [
    "Import data to df with Benign/Malignant IDs and choosing magnification"
   ]
  },
  {
   "cell_type": "code",
   "execution_count": 4,
   "metadata": {},
   "outputs": [],
   "source": [
    "def extract_image_labels(folder_path):\n",
    "    file_paths = []\n",
    "    labels = []\n",
    "\n",
    "    file_paths = []\n",
    "    labels = []\n",
    "\n",
    "    for root, dirs, files in os.walk(folder_path):\n",
    "        for file_name in files:\n",
    "            if file_name.endswith('.png'):\n",
    "                file_path = os.path.join(root, file_name)\n",
    "                # Extract parts of the filename\n",
    "                parts = file_name.split('-')\n",
    "\n",
    "                label = parts[0].split('_')[1]  # 'M' or 'B' indicating malignancy\n",
    "                magnification = parts[3]  # Magnification levels\n",
    "                    \n",
    "                # Filter for images with 100x magnification\n",
    "                if magnification == '100':\n",
    "                    labels.append(label)\n",
    "                    file_paths.append(file_path)\n",
    "\n",
    "    # Create a DataFrame with the extracted data\n",
    "    df = pd.DataFrame({\n",
    "        'FilePath': file_paths,\n",
    "        'Label': labels\n",
    "    })\n",
    "    \n",
    "    return df\n"
   ]
  },
  {
   "cell_type": "code",
   "execution_count": 5,
   "metadata": {},
   "outputs": [],
   "source": [
    "image_labels_df = extract_image_labels(\"/Users/renkasik/Desktop/Intro To Focus Areas/data/BreaKHis_v1\")"
   ]
  },
  {
   "cell_type": "code",
   "execution_count": 6,
   "metadata": {},
   "outputs": [
    {
     "data": {
      "text/html": [
       "<div>\n",
       "<style scoped>\n",
       "    .dataframe tbody tr th:only-of-type {\n",
       "        vertical-align: middle;\n",
       "    }\n",
       "\n",
       "    .dataframe tbody tr th {\n",
       "        vertical-align: top;\n",
       "    }\n",
       "\n",
       "    .dataframe thead th {\n",
       "        text-align: right;\n",
       "    }\n",
       "</style>\n",
       "<table border=\"1\" class=\"dataframe\">\n",
       "  <thead>\n",
       "    <tr style=\"text-align: right;\">\n",
       "      <th></th>\n",
       "      <th>FilePath</th>\n",
       "      <th>Label</th>\n",
       "    </tr>\n",
       "  </thead>\n",
       "  <tbody>\n",
       "    <tr>\n",
       "      <th>0</th>\n",
       "      <td>/Users/renkasik/Desktop/Intro To Focus Areas/d...</td>\n",
       "      <td>M</td>\n",
       "    </tr>\n",
       "    <tr>\n",
       "      <th>1</th>\n",
       "      <td>/Users/renkasik/Desktop/Intro To Focus Areas/d...</td>\n",
       "      <td>M</td>\n",
       "    </tr>\n",
       "    <tr>\n",
       "      <th>2</th>\n",
       "      <td>/Users/renkasik/Desktop/Intro To Focus Areas/d...</td>\n",
       "      <td>M</td>\n",
       "    </tr>\n",
       "    <tr>\n",
       "      <th>3</th>\n",
       "      <td>/Users/renkasik/Desktop/Intro To Focus Areas/d...</td>\n",
       "      <td>M</td>\n",
       "    </tr>\n",
       "    <tr>\n",
       "      <th>4</th>\n",
       "      <td>/Users/renkasik/Desktop/Intro To Focus Areas/d...</td>\n",
       "      <td>M</td>\n",
       "    </tr>\n",
       "  </tbody>\n",
       "</table>\n",
       "</div>"
      ],
      "text/plain": [
       "                                            FilePath Label\n",
       "0  /Users/renkasik/Desktop/Intro To Focus Areas/d...     M\n",
       "1  /Users/renkasik/Desktop/Intro To Focus Areas/d...     M\n",
       "2  /Users/renkasik/Desktop/Intro To Focus Areas/d...     M\n",
       "3  /Users/renkasik/Desktop/Intro To Focus Areas/d...     M\n",
       "4  /Users/renkasik/Desktop/Intro To Focus Areas/d...     M"
      ]
     },
     "execution_count": 6,
     "metadata": {},
     "output_type": "execute_result"
    }
   ],
   "source": [
    "image_labels_df.head(5)"
   ]
  },
  {
   "cell_type": "markdown",
   "metadata": {},
   "source": [
    "<h3> Split data into train. test and validation sets </h3>"
   ]
  },
  {
   "cell_type": "code",
   "execution_count": 7,
   "metadata": {},
   "outputs": [],
   "source": [
    "from sklearn.model_selection import train_test_split"
   ]
  },
  {
   "cell_type": "code",
   "execution_count": 8,
   "metadata": {},
   "outputs": [
    {
     "name": "stdout",
     "output_type": "stream",
     "text": [
      "The shape of train data (1456, 2)\n",
      "The shape of test data (312, 2)\n",
      "The shape of validation data (313, 2)\n"
     ]
    }
   ],
   "source": [
    "labels = image_labels_df['Label']\n",
    "\n",
    "X_train, X_temp = train_test_split(image_labels_df, test_size=0.3, stratify=labels, random_state = 42)\n",
    "\n",
    "label_test_val = X_temp['Label']\n",
    "\n",
    "X_test, X_val = train_test_split(X_temp, test_size=0.5, stratify=label_test_val, random_state = 42)\n",
    "\n",
    "print('The shape of train data',X_train.shape)\n",
    "print('The shape of test data',X_test.shape)\n",
    "print('The shape of validation data',X_val.shape)"
   ]
  },
  {
   "cell_type": "code",
   "execution_count": 9,
   "metadata": {},
   "outputs": [],
   "source": [
    "# Convert Labels to Numeric\n",
    "label_mapping = {'M': 1, 'B': 0}\n",
    "X_train['Label'] = X_train['Label'].map(label_mapping)\n",
    "X_val['Label'] = X_val['Label'].map(label_mapping)\n",
    "X_test['Label'] = X_test['Label'].map(label_mapping)"
   ]
  },
  {
   "cell_type": "markdown",
   "metadata": {},
   "source": [
    "<h3> Distribution of train, test and validation Datasets </h3>"
   ]
  },
  {
   "cell_type": "code",
   "execution_count": 10,
   "metadata": {},
   "outputs": [],
   "source": [
    "import numpy as np\n",
    "import matplotlib.pyplot as plt\n",
    "import seaborn as sns"
   ]
  },
  {
   "cell_type": "code",
   "execution_count": 11,
   "metadata": {},
   "outputs": [
    {
     "data": {
      "image/png": "[encoded data removed]",
      "text/plain": [
       "<Figure size 4000x1200 with 3 Axes>"
      ]
     },
     "metadata": {
      "needs_background": "light"
     },
     "output_type": "display_data"
    }
   ],
   "source": [
    "labels = ['M','B']\n",
    "\n",
    "#count unique label appearances\n",
    "label1,count1 = np.unique(X_train.Label,return_counts=True)\n",
    "label2,count2 = np.unique(X_val.Label,return_counts=True)\n",
    "label3,count3 = np.unique(X_test.Label,return_counts=True)\n",
    "\n",
    "# DataFrames with 1 column for count of labels, label names in index\n",
    "uni1 = pd.DataFrame(data=count1,index=labels,columns=['Count1'])\n",
    "uni2 = pd.DataFrame(data=count2,index=labels,columns=['Count2'])\n",
    "uni3 = pd.DataFrame(data=count3,index=labels,columns=['Count3'])\n",
    "\n",
    "plt.figure(figsize=(20,6),dpi=200)\n",
    "sns.set_style('darkgrid')\n",
    "\n",
    "plt.subplot(131)\n",
    "sns.barplot(data=uni1,x=uni1.index, y='Count1', hue=uni1.index, palette='icefire', legend=False).set_title('Class distribution in Training set',fontsize=15)\n",
    "plt.xlabel('Labels',fontsize=12)\n",
    "plt.ylabel('Count',fontsize=12)\n",
    "\n",
    "plt.subplot(132)\n",
    "sns.barplot(data=uni2,x=uni2.index, y='Count2', hue=uni1.index, palette='icefire', legend=False).set_title('Class distribution in validation set',fontsize=15)\n",
    "plt.xlabel('Labels',fontsize=12)\n",
    "plt.ylabel('Count',fontsize=12)\n",
    "\n",
    "\n",
    "plt.subplot(133)\n",
    "sns.barplot(data=uni3,x=uni3.index, y='Count3', hue=uni1.index, palette='icefire', legend=False).set_title('Class distribution in Testing set',fontsize=15)\n",
    "plt.xlabel('Labels',fontsize=12)\n",
    "plt.ylabel('Count',fontsize=12)\n",
    "\n",
    "plt.show()"
   ]
  },
  {
   "cell_type": "markdown",
   "metadata": {},
   "source": [
    "<h2> Deep Learning based Classifiers </h2>"
   ]
  },
  {
   "cell_type": "code",
   "execution_count": 12,
   "metadata": {},
   "outputs": [],
   "source": [
    "import tensorflow as tf\n",
    "from tensorflow.keras import datasets, layers, models\n",
    "from tensorflow.keras.metrics import Precision, Recall"
   ]
  },
  {
   "cell_type": "markdown",
   "metadata": {},
   "source": [
    "<h3> CNN </h3>"
   ]
  },
  {
   "cell_type": "code",
   "execution_count": 13,
   "metadata": {},
   "outputs": [],
   "source": [
    "# Load and preprocess data\n",
    "IMG_SIZE = (32, 32)  # Adjust\n",
    "\n",
    "def load_and_preprocess_image(filepath):\n",
    "    image = tf.io.read_file(filepath)\n",
    "    image = tf.image.decode_png(image, channels=3)\n",
    "    image = tf.image.resize(image, IMG_SIZE)\n",
    "    image = image / 255.0 # Normalize pixel values to [0, 1]\n",
    "    return image"
   ]
  },
  {
   "cell_type": "code",
   "execution_count": 14,
   "metadata": {},
   "outputs": [],
   "source": [
    "base_dir = \"/Users/renkasik/Desktop/Intro To Focus Areas/data/BreaKHis_v1\""
   ]
  },
  {
   "cell_type": "code",
   "execution_count": 15,
   "metadata": {},
   "outputs": [],
   "source": [
    "# Convert DataFrame columns to lists\n",
    "train_filepaths = X_train['FilePath'].tolist()\n",
    "train_labels = X_train['Label'].tolist()\n",
    "\n",
    "val_filepaths = X_val['FilePath'].tolist()\n",
    "val_labels = X_val['Label'].tolist()\n",
    "\n",
    "test_filepaths = X_test['FilePath'].tolist()\n",
    "test_labels = X_test['Label'].tolist()\n",
    "\n",
    "# load images and labels as TensorFlow Datasets\n",
    "def create_dataset(filepaths, labels):    \n",
    "    # Create TensorFlow datasets from paths and labels\n",
    "    filepaths_ds = tf.data.Dataset.from_tensor_slices(filepaths)\n",
    "    images_ds = filepaths_ds.map(load_and_preprocess_image, num_parallel_calls=tf.data.experimental.AUTOTUNE)\n",
    "    labels_ds = tf.data.Dataset.from_tensor_slices(labels)\n",
    "    \n",
    "    # Zip the datasets together\n",
    "    return tf.data.Dataset.zip((images_ds, labels_ds))"
   ]
  },
  {
   "cell_type": "code",
   "execution_count": 16,
   "metadata": {},
   "outputs": [],
   "source": [
    "i = 0\n",
    "for filepath in train_filepaths:\n",
    "    if not os.path.exists(filepath):\n",
    "        print(f\"File not found: {filepath}\")"
   ]
  },
  {
   "cell_type": "code",
   "execution_count": 17,
   "metadata": {},
   "outputs": [
    {
     "name": "stderr",
     "output_type": "stream",
     "text": [
      "2024-11-10 19:34:11.347673: I tensorflow/core/platform/cpu_feature_guard.cc:193] This TensorFlow binary is optimized with oneAPI Deep Neural Network Library (oneDNN) to use the following CPU instructions in performance-critical operations:  SSE4.1 SSE4.2\n",
      "To enable them in other operations, rebuild TensorFlow with the appropriate compiler flags.\n"
     ]
    }
   ],
   "source": [
    "BATCH_SIZE = 32  # Set the batch size according to memory capacity\n",
    "\n",
    "# Shuffle, batch, and prefetch the datasets\n",
    "train_ds = create_dataset(train_filepaths, train_labels).shuffle(buffer_size=len(train_filepaths)).batch(BATCH_SIZE).prefetch(tf.data.experimental.AUTOTUNE)\n",
    "val_ds = create_dataset(val_filepaths, val_labels).batch(BATCH_SIZE).prefetch(tf.data.experimental.AUTOTUNE)\n",
    "test_ds = create_dataset(test_filepaths, test_labels).batch(BATCH_SIZE).prefetch(tf.data.experimental.AUTOTUNE)"
   ]
  },
  {
   "cell_type": "code",
   "execution_count": 18,
   "metadata": {},
   "outputs": [],
   "source": [
    "model = models.Sequential([\n",
    "    layers.Conv2D(32, (3, 3), activation='relu', input_shape=(32, 32, 3)),  # Adjust input_shape to image dimensions, (3,3) is filter size, 3 is RGB color channels\n",
    "    layers.MaxPooling2D((2, 2)), # reduces each dimension (height and width) by half, summarizing the main features\n",
    "    layers.Conv2D(64, (3, 3), activation='relu'), # 64 filters\n",
    "    layers.MaxPooling2D((2, 2)),\n",
    "    layers.Conv2D(64, (3, 3), activation='relu'),\n",
    "    layers.Flatten(),\n",
    "    layers.Dense(64, activation='relu'), # number of neurons in the layer\n",
    "    layers.Dense(1, activation='sigmoid')\n",
    "])"
   ]
  },
  {
   "cell_type": "code",
   "execution_count": 19,
   "metadata": {},
   "outputs": [],
   "source": [
    "model.compile(optimizer='adam',\n",
    "              loss='binary_crossentropy',\n",
    "              metrics=['accuracy', Precision(), Recall()])"
   ]
  },
  {
   "cell_type": "code",
   "execution_count": 20,
   "metadata": {},
   "outputs": [
    {
     "name": "stdout",
     "output_type": "stream",
     "text": [
      "Epoch 1/10\n",
      "46/46 [==============================] - 4s 25ms/step - loss: 0.5911 - accuracy: 0.7005 - precision: 0.7093 - recall: 0.9592 - val_loss: 0.5595 - val_accuracy: 0.6901 - val_precision: 0.6901 - val_recall: 1.0000\n",
      "Epoch 2/10\n",
      "46/46 [==============================] - 3s 25ms/step - loss: 0.4974 - accuracy: 0.7850 - precision: 0.7967 - recall: 0.9244 - val_loss: 0.4508 - val_accuracy: 0.8083 - val_precision: 0.8451 - val_recall: 0.8843\n",
      "Epoch 3/10\n",
      "46/46 [==============================] - 3s 22ms/step - loss: 0.5250 - accuracy: 0.7713 - precision: 0.7937 - recall: 0.9035 - val_loss: 0.4511 - val_accuracy: 0.8083 - val_precision: 0.8145 - val_recall: 0.9352\n",
      "Epoch 4/10\n",
      "46/46 [==============================] - 3s 21ms/step - loss: 0.4906 - accuracy: 0.7864 - precision: 0.7966 - recall: 0.9274 - val_loss: 0.4549 - val_accuracy: 0.7955 - val_precision: 0.7836 - val_recall: 0.9722\n",
      "Epoch 5/10\n",
      "46/46 [==============================] - 3s 21ms/step - loss: 0.4648 - accuracy: 0.8043 - precision: 0.8169 - recall: 0.9234 - val_loss: 0.4648 - val_accuracy: 0.7796 - val_precision: 0.7616 - val_recall: 0.9907\n",
      "Epoch 6/10\n",
      "46/46 [==============================] - 3s 21ms/step - loss: 0.4634 - accuracy: 0.8015 - precision: 0.8049 - recall: 0.9403 - val_loss: 0.4589 - val_accuracy: 0.8179 - val_precision: 0.8472 - val_recall: 0.8981\n",
      "Epoch 7/10\n",
      "46/46 [==============================] - 3s 20ms/step - loss: 0.4570 - accuracy: 0.8104 - precision: 0.8206 - recall: 0.9284 - val_loss: 0.4351 - val_accuracy: 0.8275 - val_precision: 0.8403 - val_recall: 0.9259\n",
      "Epoch 8/10\n",
      "46/46 [==============================] - 3s 21ms/step - loss: 0.4502 - accuracy: 0.8207 - precision: 0.8310 - recall: 0.9294 - val_loss: 0.5311 - val_accuracy: 0.7572 - val_precision: 0.8933 - val_recall: 0.7361\n",
      "Epoch 9/10\n",
      "46/46 [==============================] - 3s 23ms/step - loss: 0.4858 - accuracy: 0.7864 - precision: 0.8049 - recall: 0.9114 - val_loss: 0.4634 - val_accuracy: 0.7987 - val_precision: 0.8768 - val_recall: 0.8241\n",
      "Epoch 10/10\n",
      "46/46 [==============================] - 3s 21ms/step - loss: 0.4926 - accuracy: 0.7953 - precision: 0.8109 - recall: 0.9174 - val_loss: 0.4570 - val_accuracy: 0.7923 - val_precision: 0.7849 - val_recall: 0.9630\n"
     ]
    }
   ],
   "source": [
    "history = model.fit(train_ds,\n",
    "                    validation_data=val_ds,\n",
    "                    epochs=10)"
   ]
  },
  {
   "cell_type": "code",
   "execution_count": 21,
   "metadata": {},
   "outputs": [
    {
     "name": "stdout",
     "output_type": "stream",
     "text": [
      "10/10 [==============================] - 1s 49ms/step - loss: 0.4067 - accuracy: 0.8429 - precision: 0.8353 - recall: 0.9630\n",
      "Loss: 0.4067308008670807\n",
      "Accuracy: 0.8429487347602844\n",
      "Precision: 0.8353413939476013\n",
      "Recall(Sensitivity): 0.9629629850387573\n"
     ]
    }
   ],
   "source": [
    "results = model.evaluate(test_ds)\n",
    "metrics = ['Loss', 'Accuracy', 'Precision', 'Recall(Sensitivity)']\n",
    "for i in range(len(results)):\n",
    "    print(metrics[i] + ': ' + str(results[i]))"
   ]
  },
  {
   "cell_type": "markdown",
   "metadata": {},
   "source": [
    "<h3>Fully connected NN with one hidden layer </h3>"
   ]
  },
  {
   "cell_type": "code",
   "execution_count": 22,
   "metadata": {},
   "outputs": [],
   "source": [
    "model_2 = models.Sequential([\n",
    "    layers.Flatten(input_shape=(32, 32, 3)),  # fully connected -> flatten from 2D to 1D\n",
    "    layers.Dense(64, activation='relu'),  # hidden layer -> learning features from the input data\n",
    "    layers.Dense(1, activation='sigmoid') \n",
    "])"
   ]
  },
  {
   "cell_type": "code",
   "execution_count": 23,
   "metadata": {},
   "outputs": [],
   "source": [
    "model_2.compile(optimizer='adam',\n",
    "              loss='binary_crossentropy',\n",
    "              metrics=['accuracy', Precision(), Recall()])"
   ]
  },
  {
   "cell_type": "code",
   "execution_count": 24,
   "metadata": {},
   "outputs": [
    {
     "name": "stdout",
     "output_type": "stream",
     "text": [
      "Epoch 1/10\n",
      "46/46 [==============================] - 3s 16ms/step - loss: 0.6418 - accuracy: 0.6813 - precision_1: 0.7159 - recall_1: 0.8925 - val_loss: 0.5458 - val_accuracy: 0.7859 - val_precision_1: 0.8041 - val_recall_1: 0.9120\n",
      "Epoch 2/10\n",
      "46/46 [==============================] - 3s 12ms/step - loss: 0.5402 - accuracy: 0.7287 - precision_1: 0.7585 - recall_1: 0.8905 - val_loss: 0.5231 - val_accuracy: 0.7827 - val_precision_1: 0.8700 - val_recall_1: 0.8056\n",
      "Epoch 3/10\n",
      "46/46 [==============================] - 3s 12ms/step - loss: 0.5391 - accuracy: 0.7424 - precision_1: 0.7697 - recall_1: 0.8945 - val_loss: 0.4864 - val_accuracy: 0.7955 - val_precision_1: 0.7992 - val_recall_1: 0.9398\n",
      "Epoch 4/10\n",
      "46/46 [==============================] - 3s 12ms/step - loss: 0.5012 - accuracy: 0.7754 - precision_1: 0.7948 - recall_1: 0.9095 - val_loss: 0.4946 - val_accuracy: 0.7859 - val_precision_1: 0.7670 - val_recall_1: 0.9907\n",
      "Epoch 5/10\n",
      "46/46 [==============================] - 3s 11ms/step - loss: 0.4928 - accuracy: 0.7857 - precision_1: 0.8130 - recall_1: 0.8955 - val_loss: 0.5500 - val_accuracy: 0.6997 - val_precision_1: 0.6968 - val_recall_1: 1.0000\n",
      "Epoch 6/10\n",
      "46/46 [==============================] - 3s 12ms/step - loss: 0.5164 - accuracy: 0.7548 - precision_1: 0.7903 - recall_1: 0.8776 - val_loss: 0.4814 - val_accuracy: 0.7955 - val_precision_1: 0.8016 - val_recall_1: 0.9352\n",
      "Epoch 7/10\n",
      "46/46 [==============================] - 3s 11ms/step - loss: 0.4909 - accuracy: 0.7837 - precision_1: 0.8108 - recall_1: 0.8955 - val_loss: 0.5226 - val_accuracy: 0.7284 - val_precision_1: 0.8830 - val_recall_1: 0.6991\n",
      "Epoch 8/10\n",
      "46/46 [==============================] - 2s 11ms/step - loss: 0.4967 - accuracy: 0.7548 - precision_1: 0.7903 - recall_1: 0.8776 - val_loss: 0.5141 - val_accuracy: 0.7508 - val_precision_1: 0.8833 - val_recall_1: 0.7361\n",
      "Epoch 9/10\n",
      "46/46 [==============================] - 3s 13ms/step - loss: 0.4930 - accuracy: 0.7850 - precision_1: 0.7978 - recall_1: 0.9224 - val_loss: 0.6208 - val_accuracy: 0.6454 - val_precision_1: 0.9200 - val_recall_1: 0.5324\n",
      "Epoch 10/10\n",
      "46/46 [==============================] - 3s 12ms/step - loss: 0.5183 - accuracy: 0.7569 - precision_1: 0.8000 - recall_1: 0.8637 - val_loss: 0.5947 - val_accuracy: 0.6454 - val_precision_1: 0.8889 - val_recall_1: 0.5556\n"
     ]
    }
   ],
   "source": [
    "history_2 = model_2.fit(train_ds,\n",
    "                    validation_data=val_ds,\n",
    "                    epochs=10)"
   ]
  },
  {
   "cell_type": "code",
   "execution_count": 25,
   "metadata": {},
   "outputs": [
    {
     "name": "stdout",
     "output_type": "stream",
     "text": [
      "10/10 [==============================] - 1s 46ms/step - loss: 0.5438 - accuracy: 0.6923 - precision_1: 0.9225 - recall_1: 0.6065\n",
      "Loss: 0.5438278913497925\n",
      "Accuracy: 0.692307710647583\n",
      "Precision: 0.922535240650177\n",
      "Recall(Sensitivity): 0.6064814925193787\n"
     ]
    }
   ],
   "source": [
    "results_2 = model_2.evaluate(test_ds)\n",
    "metrics = ['Loss', 'Accuracy', 'Precision', 'Recall(Sensitivity)']\n",
    "for i in range(len(results_2)):\n",
    "    print(metrics[i] + ': ' + str(results_2[i]))"
   ]
  },
  {
   "cell_type": "markdown",
   "metadata": {},
   "source": [
    "<h3>ResNet-50 </h3>"
   ]
  },
  {
   "cell_type": "code",
   "execution_count": 26,
   "metadata": {},
   "outputs": [],
   "source": [
    "from tensorflow.keras.applications import ResNet50"
   ]
  },
  {
   "cell_type": "code",
   "execution_count": 27,
   "metadata": {},
   "outputs": [],
   "source": [
    "IMG_SIZE_resnet = (224, 224) #ResNet50 input size requirement\n",
    "\n",
    "def load_and_preprocess_image_resnet(filepath):\n",
    "    image = tf.io.read_file(filepath)\n",
    "    image = tf.image.decode_png(image, channels=3)\n",
    "    image = tf.image.resize(image, IMG_SIZE_resnet)\n",
    "    image = tf.keras.applications.resnet50.preprocess_input(image) #ResNet preprocessing\n",
    "    return image"
   ]
  },
  {
   "cell_type": "code",
   "execution_count": 28,
   "metadata": {},
   "outputs": [],
   "source": [
    "def create_dataset_resnet(filepaths, labels):    \n",
    "    # Create TensorFlow datasets from paths and labels for ResNet\n",
    "    filepaths_ds = tf.data.Dataset.from_tensor_slices(filepaths)\n",
    "    images_ds = filepaths_ds.map(load_and_preprocess_image_resnet, num_parallel_calls=tf.data.experimental.AUTOTUNE)\n",
    "    labels_ds = tf.data.Dataset.from_tensor_slices(labels)\n",
    "\n",
    "    # Zip the datasets together\n",
    "    return tf.data.Dataset.zip((images_ds, labels_ds))"
   ]
  },
  {
   "cell_type": "code",
   "execution_count": 29,
   "metadata": {},
   "outputs": [],
   "source": [
    "# Shuffle, batch, and prefetch the datasets\n",
    "train_ds_resnet = create_dataset_resnet(train_filepaths, train_labels).shuffle(buffer_size=len(train_filepaths)).batch(BATCH_SIZE).prefetch(tf.data.experimental.AUTOTUNE)\n",
    "val_ds_resnet = create_dataset_resnet(val_filepaths, val_labels).batch(BATCH_SIZE).prefetch(tf.data.experimental.AUTOTUNE)\n",
    "test_ds_resnet = create_dataset_resnet(test_filepaths, test_labels).batch(BATCH_SIZE).prefetch(tf.data.experimental.AUTOTUNE)"
   ]
  },
  {
   "cell_type": "code",
   "execution_count": 30,
   "metadata": {},
   "outputs": [],
   "source": [
    "base_model = ResNet50(weights='imagenet', include_top=False, input_shape=(224, 224, 3)) #without the top classification layer to add custom classification layers later\n",
    "base_model.trainable = False  #freeze base model to avoid fine tuning"
   ]
  },
  {
   "cell_type": "code",
   "execution_count": 31,
   "metadata": {},
   "outputs": [],
   "source": [
    "model_3 = models.Sequential([\n",
    "    base_model,\n",
    "    layers.GlobalAveragePooling2D(), #reduce output to single vector\n",
    "    layers.Dense(1, activation='sigmoid')  \n",
    "])"
   ]
  },
  {
   "cell_type": "code",
   "execution_count": 32,
   "metadata": {},
   "outputs": [],
   "source": [
    "model_3.compile(optimizer='adam',\n",
    "              loss='binary_crossentropy',\n",
    "              metrics=['accuracy', Precision(), Recall()])"
   ]
  },
  {
   "cell_type": "code",
   "execution_count": 33,
   "metadata": {},
   "outputs": [
    {
     "name": "stdout",
     "output_type": "stream",
     "text": [
      "Epoch 1/10\n",
      "46/46 [==============================] - 88s 2s/step - loss: 0.6190 - accuracy: 0.6902 - precision_2: 0.7359 - recall_2: 0.8597 - val_loss: 0.4588 - val_accuracy: 0.7796 - val_precision_2: 0.8419 - val_recall_2: 0.8380\n",
      "Epoch 2/10\n",
      "46/46 [==============================] - 83s 2s/step - loss: 0.3666 - accuracy: 0.8475 - precision_2: 0.8582 - recall_2: 0.9333 - val_loss: 0.3599 - val_accuracy: 0.8530 - val_precision_2: 0.8728 - val_recall_2: 0.9213\n",
      "Epoch 3/10\n",
      "46/46 [==============================] - 82s 2s/step - loss: 0.2985 - accuracy: 0.8874 - precision_2: 0.8948 - recall_2: 0.9483 - val_loss: 0.3154 - val_accuracy: 0.8658 - val_precision_2: 0.8816 - val_recall_2: 0.9306\n",
      "Epoch 4/10\n",
      "46/46 [==============================] - 85s 2s/step - loss: 0.2596 - accuracy: 0.9107 - precision_2: 0.9116 - recall_2: 0.9642 - val_loss: 0.2969 - val_accuracy: 0.8882 - val_precision_2: 0.9249 - val_recall_2: 0.9120\n",
      "Epoch 5/10\n",
      "46/46 [==============================] - 83s 2s/step - loss: 0.2339 - accuracy: 0.9169 - precision_2: 0.9250 - recall_2: 0.9572 - val_loss: 0.2657 - val_accuracy: 0.9010 - val_precision_2: 0.9075 - val_recall_2: 0.9537\n",
      "Epoch 6/10\n",
      "46/46 [==============================] - 82s 2s/step - loss: 0.2088 - accuracy: 0.9299 - precision_2: 0.9362 - recall_2: 0.9642 - val_loss: 0.2508 - val_accuracy: 0.9042 - val_precision_2: 0.9115 - val_recall_2: 0.9537\n",
      "Epoch 7/10\n",
      "46/46 [==============================] - 97s 2s/step - loss: 0.1926 - accuracy: 0.9361 - precision_2: 0.9402 - recall_2: 0.9692 - val_loss: 0.2395 - val_accuracy: 0.9105 - val_precision_2: 0.9196 - val_recall_2: 0.9537\n",
      "Epoch 8/10\n",
      "46/46 [==============================] - 99s 2s/step - loss: 0.1811 - accuracy: 0.9444 - precision_2: 0.9477 - recall_2: 0.9731 - val_loss: 0.2317 - val_accuracy: 0.9265 - val_precision_2: 0.9406 - val_recall_2: 0.9537\n",
      "Epoch 9/10\n",
      "46/46 [==============================] - 128s 3s/step - loss: 0.1669 - accuracy: 0.9471 - precision_2: 0.9487 - recall_2: 0.9761 - val_loss: 0.2383 - val_accuracy: 0.9169 - val_precision_2: 0.9567 - val_recall_2: 0.9213\n",
      "Epoch 10/10\n",
      "46/46 [==============================] - 145s 3s/step - loss: 0.1553 - accuracy: 0.9547 - precision_2: 0.9589 - recall_2: 0.9761 - val_loss: 0.2266 - val_accuracy: 0.9329 - val_precision_2: 0.9577 - val_recall_2: 0.9444\n"
     ]
    }
   ],
   "source": [
    "history_3 = model_3.fit(train_ds_resnet,\n",
    "                    validation_data=val_ds_resnet,\n",
    "                    epochs=10)"
   ]
  },
  {
   "cell_type": "code",
   "execution_count": 34,
   "metadata": {},
   "outputs": [
    {
     "name": "stdout",
     "output_type": "stream",
     "text": [
      "Epoch 1/5\n",
      "46/46 [==============================] - 528s 11s/step - loss: 0.6466 - accuracy: 0.7060 - precision_3: 0.9691 - recall_3: 0.5930 - val_loss: 0.3195 - val_accuracy: 0.8562 - val_precision_3: 0.8327 - val_recall_3: 0.9907\n",
      "Epoch 2/5\n",
      "46/46 [==============================] - 514s 11s/step - loss: 0.1694 - accuracy: 0.9430 - precision_3: 0.9832 - recall_3: 0.9333 - val_loss: 0.3210 - val_accuracy: 0.8530 - val_precision_3: 0.8295 - val_recall_3: 0.9907\n",
      "Epoch 3/5\n",
      "46/46 [==============================] - 566s 12s/step - loss: 0.0908 - accuracy: 0.9821 - precision_3: 0.9890 - recall_3: 0.9851 - val_loss: 0.2422 - val_accuracy: 0.8946 - val_precision_3: 0.8735 - val_recall_3: 0.9907\n",
      "Epoch 4/5\n",
      "46/46 [==============================] - 543s 12s/step - loss: 0.0460 - accuracy: 0.9979 - precision_3: 0.9990 - recall_3: 0.9980 - val_loss: 0.2008 - val_accuracy: 0.9042 - val_precision_3: 0.8843 - val_recall_3: 0.9907\n",
      "Epoch 5/5\n",
      "46/46 [==============================] - 646s 14s/step - loss: 0.0362 - accuracy: 0.9945 - precision_3: 0.9950 - recall_3: 0.9970 - val_loss: 0.1557 - val_accuracy: 0.9361 - val_precision_3: 0.9261 - val_recall_3: 0.9861\n"
     ]
    }
   ],
   "source": [
    "#fine tuning\n",
    "base_model.trainable = True\n",
    "model_3.compile(optimizer=tf.keras.optimizers.Adam(1e-5),  #lower learning rate\n",
    "              loss='binary_crossentropy',\n",
    "              metrics=['accuracy', Precision(), Recall()])\n",
    "\n",
    "history_3 = model_3.fit(train_ds_resnet,\n",
    "                    validation_data=val_ds_resnet,\n",
    "                    epochs=5)"
   ]
  },
  {
   "cell_type": "code",
   "execution_count": 35,
   "metadata": {},
   "outputs": [
    {
     "name": "stdout",
     "output_type": "stream",
     "text": [
      "10/10 [==============================] - 30s 3s/step - loss: 0.1799 - accuracy: 0.9263 - precision_3: 0.9177 - recall_3: 0.9815\n",
      "Loss: 0.17988143861293793\n",
      "Accuracy: 0.9262820482254028\n",
      "Precision: 0.9177489280700684\n",
      "Recall(Sensitivity): 0.9814814925193787\n"
     ]
    }
   ],
   "source": [
    "results_3 = model_3.evaluate(test_ds_resnet)\n",
    "metrics = ['Loss', 'Accuracy', 'Precision', 'Recall(Sensitivity)']\n",
    "for i in range(len(results_3)):\n",
    "    print(metrics[i] + ': ' + str(results_3[i]))"
   ]
  },
  {
   "cell_type": "markdown",
   "metadata": {},
   "source": [
    "<h3>Plots</h3>"
   ]
  },
  {
   "cell_type": "code",
   "execution_count": 36,
   "metadata": {},
   "outputs": [
    {
     "data": {
      "text/html": [
       "<div>\n",
       "<style scoped>\n",
       "    .dataframe tbody tr th:only-of-type {\n",
       "        vertical-align: middle;\n",
       "    }\n",
       "\n",
       "    .dataframe tbody tr th {\n",
       "        vertical-align: top;\n",
       "    }\n",
       "\n",
       "    .dataframe thead th {\n",
       "        text-align: right;\n",
       "    }\n",
       "</style>\n",
       "<table border=\"1\" class=\"dataframe\">\n",
       "  <thead>\n",
       "    <tr style=\"text-align: right;\">\n",
       "      <th></th>\n",
       "      <th>Loss</th>\n",
       "      <th>Accuracy</th>\n",
       "      <th>Precision</th>\n",
       "      <th>Recall(Sensitivity)</th>\n",
       "    </tr>\n",
       "  </thead>\n",
       "  <tbody>\n",
       "    <tr>\n",
       "      <th>CNN</th>\n",
       "      <td>0.406731</td>\n",
       "      <td>0.842949</td>\n",
       "      <td>0.835341</td>\n",
       "      <td>0.962963</td>\n",
       "    </tr>\n",
       "    <tr>\n",
       "      <th>Shallow NN</th>\n",
       "      <td>0.543828</td>\n",
       "      <td>0.692308</td>\n",
       "      <td>0.922535</td>\n",
       "      <td>0.606481</td>\n",
       "    </tr>\n",
       "    <tr>\n",
       "      <th>ResNet50</th>\n",
       "      <td>0.179881</td>\n",
       "      <td>0.926282</td>\n",
       "      <td>0.917749</td>\n",
       "      <td>0.981481</td>\n",
       "    </tr>\n",
       "  </tbody>\n",
       "</table>\n",
       "</div>"
      ],
      "text/plain": [
       "                Loss  Accuracy  Precision  Recall(Sensitivity)\n",
       "CNN         0.406731  0.842949   0.835341             0.962963\n",
       "Shallow NN  0.543828  0.692308   0.922535             0.606481\n",
       "ResNet50    0.179881  0.926282   0.917749             0.981481"
      ]
     },
     "execution_count": 36,
     "metadata": {},
     "output_type": "execute_result"
    }
   ],
   "source": [
    "results = np.array(results)\n",
    "results_2 = np.array(results_2)\n",
    "results_3 = np.array(results_3)\n",
    "results_df = pd.DataFrame({'CNN': results, 'Shallow NN': results_2, 'ResNet50': results_3})\n",
    "\n",
    "results_df = results_df.T\n",
    "\n",
    "results_df.columns = ['Loss', 'Accuracy', 'Precision', 'Recall(Sensitivity)']\n",
    "results_df"
   ]
  },
  {
   "cell_type": "code",
   "execution_count": 37,
   "metadata": {},
   "outputs": [
    {
     "data": {
      "text/plain": [
       "<Figure size 1440x1080 with 0 Axes>"
      ]
     },
     "metadata": {},
     "output_type": "display_data"
    },
    {
     "data": {
      "image/png": "[encoded data removed]",
      "text/plain": [
       "<Figure size 1080x864 with 1 Axes>"
      ]
     },
     "metadata": {},
     "output_type": "display_data"
    }
   ],
   "source": [
    "plt.figure(figsize=(20, 15))\n",
    "\n",
    "results_df.plot(kind='bar', rot=0, figsize=(15,12))\n",
    "plt.title('Model Performance Comparison-Original Data, 100')\n",
    "plt.ylabel('Score')\n",
    "plt.xlabel('Model')  \n",
    "\n",
    "# Show the plot\n",
    "plt.legend(title='Metric')\n",
    "plt.show()"
   ]
  },
  {
   "cell_type": "code",
   "execution_count": 38,
   "metadata": {},
   "outputs": [],
   "source": [
    "from sklearn.metrics import roc_curve, auc"
   ]
  },
  {
   "cell_type": "code",
   "execution_count": 39,
   "metadata": {},
   "outputs": [
    {
     "name": "stdout",
     "output_type": "stream",
     "text": [
      "10/10 [==============================] - 0s 11ms/step\n",
      "10/10 [==============================] - 0s 12ms/step\n",
      "10/10 [==============================] - 33s 3s/step\n"
     ]
    }
   ],
   "source": [
    "X_test_images = np.array([load_and_preprocess_image(fp) for fp in X_test['FilePath']])\n",
    "X_test_images_resnet = np.array([load_and_preprocess_image_resnet(fp) for fp in X_test['FilePath']])\n",
    "\n",
    "probabilities_CNN = model.predict(X_test_images)\n",
    "probabilities_ShallowNN = model_2.predict(X_test_images)\n",
    "probabilities_ResNet50 = model_3.predict(X_test_images_resnet)\n"
   ]
  },
  {
   "cell_type": "code",
   "execution_count": 40,
   "metadata": {},
   "outputs": [],
   "source": [
    "fpr_CNN, tpr_CNN, _ = roc_curve(test_labels, probabilities_CNN)\n",
    "fpr_ShallowNN, tpr_ShallowNN, _ = roc_curve(test_labels, probabilities_ShallowNN)\n",
    "fpr_ResNet50, tpr_ResNet50, _ = roc_curve(test_labels, probabilities_ResNet50)\n",
    "\n",
    "auc_CNN = auc(fpr_CNN, tpr_CNN)\n",
    "auc_ShallowNN = auc(fpr_ShallowNN, tpr_ShallowNN)\n",
    "auc_ResNet50 = auc(fpr_ResNet50, tpr_ResNet50)"
   ]
  },
  {
   "cell_type": "code",
   "execution_count": 41,
   "metadata": {},
   "outputs": [
    {
     "data": {
      "image/png": "[encoded data removed]",
      "text/plain": [
       "<Figure size 720x576 with 1 Axes>"
      ]
     },
     "metadata": {},
     "output_type": "display_data"
    }
   ],
   "source": [
    "plt.figure(figsize=(10, 8))\n",
    "\n",
    "\n",
    "plt.plot(fpr_CNN, tpr_CNN, label=f'CNN (AUC = {auc_CNN:.2f})')\n",
    "plt.plot(fpr_ShallowNN, tpr_ShallowNN, label=f'Shallow NN (AUC = {auc_ShallowNN:.2f})')\n",
    "plt.plot(fpr_ResNet50, tpr_ResNet50, label=f'ResNet50 (AUC = {auc_ResNet50:.2f})')\n",
    "\n",
    "plt.plot([0, 1], [0, 1], 'k--', label='Random (AUC = 0.50)')\n",
    "\n",
    "\n",
    "plt.xlabel('False Positive Rate')\n",
    "plt.ylabel('True Positive Rate')\n",
    "plt.title('ROC Curve Comparison of Models-Original Data, 100')\n",
    "plt.legend(loc='lower right')\n",
    "plt.show()"
   ]
  },
  {
   "cell_type": "markdown",
   "metadata": {},
   "source": [
    "<h3>Confusion Matrix</h3>"
   ]
  },
  {
   "cell_type": "code",
   "execution_count": 42,
   "metadata": {},
   "outputs": [],
   "source": [
    "from sklearn.metrics import confusion_matrix"
   ]
  },
  {
   "cell_type": "code",
   "execution_count": 43,
   "metadata": {},
   "outputs": [],
   "source": [
    "#probabilities to binary predictions\n",
    "pred_CNN = (probabilities_CNN > 0.5).astype(int)\n",
    "pred_ShallowNN = (probabilities_ShallowNN > 0.5).astype(int)\n",
    "pred_ResNet50 = (probabilities_ResNet50 > 0.5).astype(int)"
   ]
  },
  {
   "cell_type": "code",
   "execution_count": 44,
   "metadata": {},
   "outputs": [],
   "source": [
    "cm_CNN = confusion_matrix(test_labels, pred_CNN)\n",
    "cm_ShallowNN = confusion_matrix(test_labels, pred_ShallowNN)\n",
    "cm_ResNet50 = confusion_matrix(test_labels, pred_ResNet50)"
   ]
  },
  {
   "cell_type": "code",
   "execution_count": 45,
   "metadata": {},
   "outputs": [
    {
     "data": {
      "image/png": "[encoded data removed]",
      "text/plain": [
       "<Figure size 432x288 with 1 Axes>"
      ]
     },
     "metadata": {},
     "output_type": "display_data"
    },
    {
     "data": {
      "image/png": "[encoded data removed]",
      "text/plain": [
       "<Figure size 432x288 with 1 Axes>"
      ]
     },
     "metadata": {},
     "output_type": "display_data"
    },
    {
     "data": {
      "image/png": "[encoded data removed]",
      "text/plain": [
       "<Figure size 432x288 with 1 Axes>"
      ]
     },
     "metadata": {},
     "output_type": "display_data"
    }
   ],
   "source": [
    "def plot_confusion_matrix(cm, title):\n",
    "    plt.figure(figsize=(6, 4))\n",
    "    sns.heatmap(cm, annot=True, fmt=\"d\", cmap=\"Greens\", cbar=False,\n",
    "                xticklabels=['Predicted Negative', 'Predicted Positive'],\n",
    "                yticklabels=['Actual Negative', 'Actual Positive'])\n",
    "    plt.xlabel(\"Predicted Label\")\n",
    "    plt.ylabel(\"True Label\")\n",
    "    plt.title(title)\n",
    "    plt.show()\n",
    "\n",
    "plot_confusion_matrix(cm_CNN, \"Confusion Matrix - CNN, Original Data, 100\")\n",
    "plot_confusion_matrix(cm_ShallowNN, \"Confusion Matrix - Shallow NN, , Original Data, 100\")\n",
    "plot_confusion_matrix(cm_ResNet50, \"Confusion Matrix - ResNet50, Original Data, 100\")"
   ]
  }
 ],
 "metadata": {
  "kernelspec": {
   "display_name": "base",
   "language": "python",
   "name": "python3"
  },
  "language_info": {
   "codemirror_mode": {
    "name": "ipython",
    "version": 3
   },
   "file_extension": ".py",
   "mimetype": "text/x-python",
   "name": "python",
   "nbconvert_exporter": "python",
   "pygments_lexer": "ipython3",
   "version": "3.9.12"
  }
 },
 "nbformat": 4,
 "nbformat_minor": 2
}
