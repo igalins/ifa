{
 "cells": [
  {
   "cell_type": "code",
   "execution_count": 52,
   "metadata": {},
   "outputs": [],
   "source": [
    "import tarfile\n",
    "import pandas as pd\n",
    "import os"
   ]
  },
  {
   "cell_type": "code",
   "execution_count": 55,
   "metadata": {},
   "outputs": [
    {
     "data": {
      "text/plain": [
       "7909"
      ]
     },
     "execution_count": 55,
     "metadata": {},
     "output_type": "execute_result"
    }
   ],
   "source": [
    "def count_png_files_in_folder(folder_path):\n",
    "    png_count = 0\n",
    "    \n",
    "    for root, dirs, files in os.walk(folder_path):\n",
    "        png_count += sum(1 for file in files if file.endswith('.png'))\n",
    "    return png_count\n",
    "\n",
    "count_png_files_in_folder(\"C:/Users/igali/OneDrive/Desktop/Bioinfo/WiSe 24-25/Intro to Focus Areas/Data Science/data/BreaKHis_v1\")"
   ]
  },
  {
   "cell_type": "markdown",
   "metadata": {},
   "source": [
    "Import Data to DataFrame, include Benign/Malignant with ID, Choose a Magnification"
   ]
  },
  {
   "cell_type": "code",
   "execution_count": 56,
   "metadata": {},
   "outputs": [],
   "source": [
    "def extract_image_labels(folder_path):\n",
    "    file_paths = []\n",
    "    labels = []\n",
    "\n",
    "    for root, dirs, files in os.walk(folder_path):\n",
    "        for file_name in files:\n",
    "            if file_name.endswith('.png'):\n",
    "                file_path = os.path.join(root, file_name)\n",
    "                # Extract parts of the filename\n",
    "                parts = file_name.split('-')\n",
    "\n",
    "                label = parts[0].split('_')[1]  # 'M' or 'B' indicating malignancy\n",
    "                magnification = parts[3]  # Magnification levels\n",
    "                    \n",
    "                # Filter for images with 100x magnification\n",
    "                if magnification == '100':\n",
    "                    labels.append(label)\n",
    "                    file_paths.append(file_path)\n",
    "    \n",
    "    # Create a DataFrame with the extracted data\n",
    "    df = pd.DataFrame({\n",
    "        'FilePath': file_paths,\n",
    "        'Label': labels\n",
    "    })\n",
    "    \n",
    "    return df"
   ]
  },
  {
   "cell_type": "code",
   "execution_count": 57,
   "metadata": {},
   "outputs": [],
   "source": [
    "image_labels_df = extract_image_labels(\"C:/Users/igali/OneDrive/Desktop/Bioinfo/WiSe 24-25/Intro to Focus Areas/Data Science/data/BreaKHis_v1\")\n"
   ]
  },
  {
   "cell_type": "code",
   "execution_count": 58,
   "metadata": {},
   "outputs": [
    {
     "data": {
      "text/html": [
       "<div>\n",
       "<style scoped>\n",
       "    .dataframe tbody tr th:only-of-type {\n",
       "        vertical-align: middle;\n",
       "    }\n",
       "\n",
       "    .dataframe tbody tr th {\n",
       "        vertical-align: top;\n",
       "    }\n",
       "\n",
       "    .dataframe thead th {\n",
       "        text-align: right;\n",
       "    }\n",
       "</style>\n",
       "<table border=\"1\" class=\"dataframe\">\n",
       "  <thead>\n",
       "    <tr style=\"text-align: right;\">\n",
       "      <th></th>\n",
       "      <th>FilePath</th>\n",
       "      <th>Label</th>\n",
       "    </tr>\n",
       "  </thead>\n",
       "  <tbody>\n",
       "    <tr>\n",
       "      <th>0</th>\n",
       "      <td>C:/Users/igali/OneDrive/Desktop/Bioinfo/WiSe 2...</td>\n",
       "      <td>B</td>\n",
       "    </tr>\n",
       "    <tr>\n",
       "      <th>1</th>\n",
       "      <td>C:/Users/igali/OneDrive/Desktop/Bioinfo/WiSe 2...</td>\n",
       "      <td>B</td>\n",
       "    </tr>\n",
       "    <tr>\n",
       "      <th>2</th>\n",
       "      <td>C:/Users/igali/OneDrive/Desktop/Bioinfo/WiSe 2...</td>\n",
       "      <td>B</td>\n",
       "    </tr>\n",
       "    <tr>\n",
       "      <th>3</th>\n",
       "      <td>C:/Users/igali/OneDrive/Desktop/Bioinfo/WiSe 2...</td>\n",
       "      <td>B</td>\n",
       "    </tr>\n",
       "    <tr>\n",
       "      <th>4</th>\n",
       "      <td>C:/Users/igali/OneDrive/Desktop/Bioinfo/WiSe 2...</td>\n",
       "      <td>B</td>\n",
       "    </tr>\n",
       "  </tbody>\n",
       "</table>\n",
       "</div>"
      ],
      "text/plain": [
       "                                            FilePath Label\n",
       "0  C:/Users/igali/OneDrive/Desktop/Bioinfo/WiSe 2...     B\n",
       "1  C:/Users/igali/OneDrive/Desktop/Bioinfo/WiSe 2...     B\n",
       "2  C:/Users/igali/OneDrive/Desktop/Bioinfo/WiSe 2...     B\n",
       "3  C:/Users/igali/OneDrive/Desktop/Bioinfo/WiSe 2...     B\n",
       "4  C:/Users/igali/OneDrive/Desktop/Bioinfo/WiSe 2...     B"
      ]
     },
     "execution_count": 58,
     "metadata": {},
     "output_type": "execute_result"
    }
   ],
   "source": [
    "image_labels_df.head(5)"
   ]
  },
  {
   "cell_type": "markdown",
   "metadata": {},
   "source": [
    "Split Data"
   ]
  },
  {
   "cell_type": "code",
   "execution_count": null,
   "metadata": {},
   "outputs": [],
   "source": [
    "from sklearn.model_selection import train_test_split"
   ]
  },
  {
   "cell_type": "code",
   "execution_count": 59,
   "metadata": {},
   "outputs": [
    {
     "name": "stdout",
     "output_type": "stream",
     "text": [
      "The shape of train data (1456, 2)\n",
      "The shape of test data (312, 2)\n",
      "The shape of validation data (313, 2)\n"
     ]
    }
   ],
   "source": [
    "labels = image_labels_df['Label']\n",
    "\n",
    "X_train, X_temp = train_test_split(image_labels_df, test_size=0.3, stratify=labels, random_state = 42)\n",
    "\n",
    "label_test_val = X_temp['Label']\n",
    "\n",
    "X_test, X_val = train_test_split(X_temp, test_size=0.5, stratify=label_test_val, random_state = 42)\n",
    "\n",
    "print('The shape of train data',X_train.shape)\n",
    "print('The shape of test data',X_test.shape)\n",
    "print('The shape of validation data',X_val.shape)"
   ]
  },
  {
   "cell_type": "code",
   "execution_count": 60,
   "metadata": {},
   "outputs": [],
   "source": [
    "# Convert Labels to Numeric\n",
    "label_mapping = {'M': 1, 'B': 0}\n",
    "X_train['Label'] = X_train['Label'].map(label_mapping)\n",
    "X_val['Label'] = X_val['Label'].map(label_mapping)\n",
    "X_test['Label'] = X_test['Label'].map(label_mapping)"
   ]
  },
  {
   "cell_type": "markdown",
   "metadata": {},
   "source": [
    "Visualize Distribution of Train, Test, Validation Data"
   ]
  },
  {
   "cell_type": "code",
   "execution_count": 61,
   "metadata": {},
   "outputs": [],
   "source": [
    "import numpy as np\n",
    "import matplotlib.pyplot as plt\n",
    "import seaborn as sns"
   ]
  },
  {
   "cell_type": "code",
   "execution_count": 62,
   "metadata": {},
   "outputs": [
    {
     "data": {
      "image/png": "[encoded data removed]",
      "text/plain": [
       "<Figure size 4000x1200 with 3 Axes>"
      ]
     },
     "metadata": {},
     "output_type": "display_data"
    }
   ],
   "source": [
    "labels = ['M','B']\n",
    "\n",
    "label1,count1 = np.unique(X_train.Label,return_counts=True)\n",
    "label2,count2 = np.unique(X_val.Label,return_counts=True)\n",
    "label3,count3 = np.unique(X_test.Label,return_counts=True)\n",
    "\n",
    "uni1 = pd.DataFrame(data=count1,index=labels,columns=['Count1'])\n",
    "uni2 = pd.DataFrame(data=count2,index=labels,columns=['Count2'])\n",
    "uni3 = pd.DataFrame(data=count3,index=labels,columns=['Count3'])\n",
    "\n",
    "\n",
    "plt.figure(figsize=(20,6),dpi=200)\n",
    "sns.set_style('darkgrid')\n",
    "\n",
    "plt.subplot(131)\n",
    "sns.barplot(data=uni1,x=uni1.index,y='Count1',palette='icefire').set_title('Class distribution in Training set',fontsize=15)\n",
    "plt.xlabel('Labels',fontsize=12)\n",
    "plt.ylabel('Count',fontsize=12)\n",
    "\n",
    "plt.subplot(132)\n",
    "sns.barplot(data=uni2,x=uni2.index,y='Count2',palette='icefire').set_title('Class distribution in validation set',fontsize=15)\n",
    "plt.xlabel('Labels',fontsize=12)\n",
    "plt.ylabel('Count',fontsize=12)\n",
    "\n",
    "\n",
    "plt.subplot(133)\n",
    "sns.barplot(data=uni3,x=uni3.index,y='Count3',palette='icefire').set_title('Class distribution in Testing set',fontsize=15)\n",
    "plt.xlabel('Labels',fontsize=12)\n",
    "plt.ylabel('Count',fontsize=12)\n",
    "\n",
    "plt.show()"
   ]
  },
  {
   "cell_type": "markdown",
   "metadata": {},
   "source": [
    "Implement at least three Deep Learning based classifiers: One needs to be a CNN, one can be a shallow neural network, e.g. a fully connected NN with one hidden layer."
   ]
  },
  {
   "cell_type": "code",
   "execution_count": 63,
   "metadata": {},
   "outputs": [],
   "source": [
    "import tensorflow as tf\n",
    "from tensorflow.keras import datasets, layers, models\n",
    "from tensorflow.keras.metrics import Precision, Recall\n"
   ]
  },
  {
   "cell_type": "markdown",
   "metadata": {},
   "source": [
    "CNN"
   ]
  },
  {
   "cell_type": "code",
   "execution_count": 64,
   "metadata": {},
   "outputs": [],
   "source": [
    "# Load and preprocess data\n",
    "IMG_SIZE = (32, 32)  # Adjust\n",
    "\n",
    "def load_and_preprocess_image(filepath):\n",
    "    image = tf.io.read_file(filepath)\n",
    "    image = tf.image.decode_png(image, channels=3)\n",
    "    image = tf.image.resize(image, IMG_SIZE)\n",
    "    image = image / 255.0 # Normalize pixel values to [0, 1]\n",
    "    return image"
   ]
  },
  {
   "cell_type": "code",
   "execution_count": 65,
   "metadata": {},
   "outputs": [],
   "source": [
    "base_dir = \"C:/Users/igali/OneDrive/Desktop/Bioinfo/WiSe 24-25/Intro to Focus Areas/Data Science/data/BreaKHis_v1\""
   ]
  },
  {
   "cell_type": "code",
   "execution_count": null,
   "metadata": {},
   "outputs": [],
   "source": [
    "# Convert DataFrame columns to lists\n",
    "train_filepaths = X_train['FilePath'].tolist()\n",
    "train_labels = X_train['Label'].tolist()\n",
    "\n",
    "val_filepaths = X_val['FilePath'].tolist()\n",
    "val_labels = X_val['Label'].tolist()\n",
    "\n",
    "test_filepaths = X_test['FilePath'].tolist()\n",
    "test_labels = X_test['Label'].tolist()\n",
    "\n",
    "# load images and labels as TensorFlow Datasets\n",
    "def create_dataset(filepaths, labels):    \n",
    "    # Create TensorFlow datasets from paths and labels\n",
    "    filepaths_ds = tf.data.Dataset.from_tensor_slices(filepaths)\n",
    "    images_ds = filepaths_ds.map(load_and_preprocess_image, num_parallel_calls=tf.data.experimental.AUTOTUNE)\n",
    "    labels_ds = tf.data.Dataset.from_tensor_slices(labels)\n",
    "    \n",
    "    # Zip the datasets together\n",
    "    return tf.data.Dataset.zip((images_ds, labels_ds))"
   ]
  },
  {
   "cell_type": "code",
   "execution_count": 67,
   "metadata": {},
   "outputs": [],
   "source": [
    "i = 0\n",
    "for filepath in train_filepaths:\n",
    "    if not os.path.exists(filepath):\n",
    "        print(f\"File not found: {filepath}\")"
   ]
  },
  {
   "cell_type": "code",
   "execution_count": 68,
   "metadata": {},
   "outputs": [],
   "source": [
    "BATCH_SIZE = 32  # Set the batch size according to memory capacity\n",
    "\n",
    "# Shuffle, batch, and prefetch the datasets\n",
    "train_ds = create_dataset(train_filepaths, train_labels).shuffle(buffer_size=len(train_filepaths)).batch(BATCH_SIZE).prefetch(tf.data.experimental.AUTOTUNE)\n",
    "val_ds = create_dataset(val_filepaths, val_labels).batch(BATCH_SIZE).prefetch(tf.data.experimental.AUTOTUNE)\n",
    "test_ds = create_dataset(test_filepaths, test_labels).batch(BATCH_SIZE).prefetch(tf.data.experimental.AUTOTUNE)"
   ]
  },
  {
   "cell_type": "code",
   "execution_count": 69,
   "metadata": {},
   "outputs": [
    {
     "name": "stderr",
     "output_type": "stream",
     "text": [
      "c:\\Users\\igali\\AppData\\Local\\Programs\\Python\\Python39\\lib\\site-packages\\keras\\src\\layers\\convolutional\\base_conv.py:107: UserWarning: Do not pass an `input_shape`/`input_dim` argument to a layer. When using Sequential models, prefer using an `Input(shape)` object as the first layer in the model instead.\n",
      "  super().__init__(activity_regularizer=activity_regularizer, **kwargs)\n"
     ]
    }
   ],
   "source": [
    "model = models.Sequential([\n",
    "    layers.Conv2D(32, (3, 3), activation='relu', input_shape=(32, 32, 3)),  # Adjust input_shape to image dimensions, (3,3) is filter size, 3 is RGB color channels\n",
    "    layers.MaxPooling2D((2, 2)), # reduces each dimension (height and width) by half, summarizing the main features\n",
    "    layers.Conv2D(64, (3, 3), activation='relu'), # 64 filters\n",
    "    layers.MaxPooling2D((2, 2)),\n",
    "    layers.Conv2D(64, (3, 3), activation='relu'),\n",
    "    layers.Flatten(),\n",
    "    layers.Dense(64, activation='relu'), # number of neurons in the layer\n",
    "    layers.Dense(1, activation='sigmoid')\n",
    "])"
   ]
  },
  {
   "cell_type": "code",
   "execution_count": 70,
   "metadata": {},
   "outputs": [],
   "source": [
    "model.compile(optimizer='adam',\n",
    "              loss='binary_crossentropy',\n",
    "              metrics=['accuracy', Precision(), Recall()])"
   ]
  },
  {
   "cell_type": "code",
   "execution_count": 71,
   "metadata": {},
   "outputs": [
    {
     "name": "stdout",
     "output_type": "stream",
     "text": [
      "Epoch 1/10\n",
      "\u001b[1m46/46\u001b[0m \u001b[32m━━━━━━━━━━━━━━━━━━━━\u001b[0m\u001b[37m\u001b[0m \u001b[1m3s\u001b[0m 16ms/step - accuracy: 0.6597 - loss: 0.6079 - precision_2: 0.6894 - recall_2: 0.8919 - val_accuracy: 0.8371 - val_loss: 0.4350 - val_precision_2: 0.8423 - val_recall_2: 0.9398\n",
      "Epoch 2/10\n",
      "\u001b[1m46/46\u001b[0m \u001b[32m━━━━━━━━━━━━━━━━━━━━\u001b[0m\u001b[37m\u001b[0m \u001b[1m1s\u001b[0m 11ms/step - accuracy: 0.7931 - loss: 0.4836 - precision_2: 0.8047 - recall_2: 0.9179 - val_accuracy: 0.8275 - val_loss: 0.4122 - val_precision_2: 0.8293 - val_recall_2: 0.9444\n",
      "Epoch 3/10\n",
      "\u001b[1m46/46\u001b[0m \u001b[32m━━━━━━━━━━━━━━━━━━━━\u001b[0m\u001b[37m\u001b[0m \u001b[1m1s\u001b[0m 11ms/step - accuracy: 0.7611 - loss: 0.5184 - precision_2: 0.7866 - recall_2: 0.8932 - val_accuracy: 0.8562 - val_loss: 0.4258 - val_precision_2: 0.9171 - val_recall_2: 0.8704\n",
      "Epoch 4/10\n",
      "\u001b[1m46/46\u001b[0m \u001b[32m━━━━━━━━━━━━━━━━━━━━\u001b[0m\u001b[37m\u001b[0m \u001b[1m1s\u001b[0m 11ms/step - accuracy: 0.7612 - loss: 0.5180 - precision_2: 0.7745 - recall_2: 0.9182 - val_accuracy: 0.7316 - val_loss: 0.4817 - val_precision_2: 0.7230 - val_recall_2: 0.9907\n",
      "Epoch 5/10\n",
      "\u001b[1m46/46\u001b[0m \u001b[32m━━━━━━━━━━━━━━━━━━━━\u001b[0m\u001b[37m\u001b[0m \u001b[1m1s\u001b[0m 11ms/step - accuracy: 0.8108 - loss: 0.4696 - precision_2: 0.8252 - recall_2: 0.9265 - val_accuracy: 0.8530 - val_loss: 0.4113 - val_precision_2: 0.9009 - val_recall_2: 0.8843\n",
      "Epoch 6/10\n",
      "\u001b[1m46/46\u001b[0m \u001b[32m━━━━━━━━━━━━━━━━━━━━\u001b[0m\u001b[37m\u001b[0m \u001b[1m1s\u001b[0m 10ms/step - accuracy: 0.8047 - loss: 0.4684 - precision_2: 0.8191 - recall_2: 0.9204 - val_accuracy: 0.8275 - val_loss: 0.4151 - val_precision_2: 0.8320 - val_recall_2: 0.9398\n",
      "Epoch 7/10\n",
      "\u001b[1m46/46\u001b[0m \u001b[32m━━━━━━━━━━━━━━━━━━━━\u001b[0m\u001b[37m\u001b[0m \u001b[1m1s\u001b[0m 11ms/step - accuracy: 0.7694 - loss: 0.4945 - precision_2: 0.7879 - recall_2: 0.9016 - val_accuracy: 0.8083 - val_loss: 0.4434 - val_precision_2: 0.7932 - val_recall_2: 0.9769\n",
      "Epoch 8/10\n",
      "\u001b[1m46/46\u001b[0m \u001b[32m━━━━━━━━━━━━━━━━━━━━\u001b[0m\u001b[37m\u001b[0m \u001b[1m1s\u001b[0m 11ms/step - accuracy: 0.7781 - loss: 0.4886 - precision_2: 0.7962 - recall_2: 0.8998 - val_accuracy: 0.8626 - val_loss: 0.4372 - val_precision_2: 0.9220 - val_recall_2: 0.8750\n",
      "Epoch 9/10\n",
      "\u001b[1m46/46\u001b[0m \u001b[32m━━━━━━━━━━━━━━━━━━━━\u001b[0m\u001b[37m\u001b[0m \u001b[1m1s\u001b[0m 11ms/step - accuracy: 0.7970 - loss: 0.4746 - precision_2: 0.8230 - recall_2: 0.8910 - val_accuracy: 0.7572 - val_loss: 0.4776 - val_precision_2: 0.7465 - val_recall_2: 0.9815\n",
      "Epoch 10/10\n",
      "\u001b[1m46/46\u001b[0m \u001b[32m━━━━━━━━━━━━━━━━━━━━\u001b[0m\u001b[37m\u001b[0m \u001b[1m1s\u001b[0m 11ms/step - accuracy: 0.7836 - loss: 0.4929 - precision_2: 0.8034 - recall_2: 0.9058 - val_accuracy: 0.8594 - val_loss: 0.4139 - val_precision_2: 0.9057 - val_recall_2: 0.8889\n"
     ]
    }
   ],
   "source": [
    "history = model.fit(train_ds,\n",
    "                    validation_data=val_ds,\n",
    "                    epochs=10)"
   ]
  },
  {
   "cell_type": "markdown",
   "metadata": {},
   "source": [
    "Evaluation"
   ]
  },
  {
   "cell_type": "code",
   "execution_count": 79,
   "metadata": {},
   "outputs": [
    {
     "name": "stdout",
     "output_type": "stream",
     "text": [
      "\u001b[1m10/10\u001b[0m \u001b[32m━━━━━━━━━━━━━━━━━━━━\u001b[0m\u001b[37m\u001b[0m \u001b[1m0s\u001b[0m 22ms/step - accuracy: 0.8125 - loss: 0.4413 - precision_2: 0.8774 - recall_2: 0.8615\n",
      "Loss: 0.45870253443717957\n",
      "Accuracy: 0.807692289352417\n",
      "Precision: 0.8644859790802002\n",
      "Recall(Sensitivity): 0.8564814925193787\n"
     ]
    }
   ],
   "source": [
    "results = model.evaluate(test_ds)\n",
    "metrics = ['Loss', 'Accuracy', 'Precision', 'Recall(Sensitivity)']\n",
    "for i in range(len(results)):\n",
    "    print(metrics[i] + ': ' + str(results[i]))"
   ]
  },
  {
   "cell_type": "code",
   "execution_count": null,
   "metadata": {},
   "outputs": [],
   "source": []
  }
 ],
 "metadata": {
  "kernelspec": {
   "display_name": "Python 3",
   "language": "python",
   "name": "python3"
  },
  "language_info": {
   "codemirror_mode": {
    "name": "ipython",
    "version": 3
   },
   "file_extension": ".py",
   "mimetype": "text/x-python",
   "name": "python",
   "nbconvert_exporter": "python",
   "pygments_lexer": "ipython3",
   "version": "3.9.6"
  }
 },
 "nbformat": 4,
 "nbformat_minor": 2
}
