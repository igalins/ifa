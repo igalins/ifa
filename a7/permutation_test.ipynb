{
 "cells": [
  {
   "cell_type": "markdown",
   "metadata": {},
   "source": [
    "Permutation Test"
   ]
  },
  {
   "cell_type": "markdown",
   "metadata": {},
   "source": [
    "Task 1"
   ]
  },
  {
   "cell_type": "code",
   "execution_count": 1,
   "metadata": {},
   "outputs": [],
   "source": [
    "import numpy as np\n",
    "import matplotlib.pyplot as plt"
   ]
  },
  {
   "cell_type": "code",
   "execution_count": 2,
   "metadata": {},
   "outputs": [],
   "source": [
    "gene_1_type_1 = np.array([230, -1350, -1580, -400, -760])\n",
    "gene_1_type_2 = np.array([970, 110, -50, -190, -200])\n",
    "gene_2_type_1 = np.array([470, -850, -0.8, -280, 120])\n",
    "gene_2_type_2 = np.array([390, -1730, -1360, -1, -330])"
   ]
  },
  {
   "cell_type": "code",
   "execution_count": 3,
   "metadata": {},
   "outputs": [],
   "source": [
    "v1 = np.median(gene_1_type_1) # v1: median of gene 1 of Type I\n",
    "v2 = np.median(gene_1_type_2) # v2: median of gene 1 of Type II"
   ]
  },
  {
   "cell_type": "code",
   "execution_count": 4,
   "metadata": {},
   "outputs": [],
   "source": [
    "T_obs = np.abs(v1 - v2) # absolute difference between sample medians"
   ]
  },
  {
   "cell_type": "code",
   "execution_count": 5,
   "metadata": {},
   "outputs": [],
   "source": [
    "# permutation test that shuffles the array and calculates T_perm for 1000 permutations\n",
    "\n",
    "n_permutations = 1000\n",
    "T_perms = []\n",
    "\n",
    "gene_1 = np.concatenate([gene_1_type_1, gene_1_type_2])\n",
    "\n",
    "for _ in range(n_permutations):\n",
    "    np.random.shuffle(gene_1)\n",
    "\n",
    "    type_1_perm = gene_1[0:5]\n",
    "    type_2_perm = gene_1[5:10]\n",
    "\n",
    "    v1_perm = np.median(type_1_perm)\n",
    "    v2_perm = np.median(type_2_perm)\n",
    "\n",
    "    T_perm = np.abs(v1_perm - v2_perm)\n",
    "    T_perms.append(T_perm)\n",
    "\n"
   ]
  },
  {
   "cell_type": "code",
   "execution_count": 6,
   "metadata": {},
   "outputs": [],
   "source": [
    "def find_p_value(T_perms, T_obs):\n",
    "    n_perm = len(T_perms)\n",
    "    perm_bigger_than_obs = 0\n",
    "\n",
    "    for T_perm in T_perms:\n",
    "        if T_perm > T_obs:\n",
    "            perm_bigger_than_obs += 1\n",
    "    \n",
    "    p_value = (1 / n_perm) * perm_bigger_than_obs\n",
    "    return p_value\n"
   ]
  },
  {
   "cell_type": "code",
   "execution_count": 7,
   "metadata": {},
   "outputs": [
    {
     "data": {
      "text/plain": [
       "0.034"
      ]
     },
     "execution_count": 7,
     "metadata": {},
     "output_type": "execute_result"
    }
   ],
   "source": [
    "gene_1 = np.concatenate([gene_1_type_1, gene_1_type_2])\n",
    "\n",
    "p_value = find_p_value(T_perms, T_obs)\n",
    "p_value"
   ]
  },
  {
   "cell_type": "markdown",
   "metadata": {},
   "source": [
    "Task 2"
   ]
  },
  {
   "cell_type": "code",
   "execution_count": 8,
   "metadata": {},
   "outputs": [],
   "source": [
    "from Bio import SeqIO\n",
    "import pandas as pd"
   ]
  },
  {
   "cell_type": "code",
   "execution_count": 9,
   "metadata": {},
   "outputs": [],
   "source": [
    "def calculate_gc_content(seq): # return GC content of a given sequence\n",
    "    gc_count = seq.count(\"G\") + seq.count(\"C\")\n",
    "    return gc_count / len(seq) if len(seq) > 0 else 0"
   ]
  },
  {
   "cell_type": "code",
   "execution_count": 10,
   "metadata": {},
   "outputs": [],
   "source": [
    "def get_gc_contents(fasta_file): # returns a list of GC contents for all sequences in a fasta file\n",
    "    gc_contents = []\n",
    "    for record in SeqIO.parse(fasta_file, \"fasta\"):\n",
    "        gc_content = calculate_gc_content(str(record.seq).upper())\n",
    "        gc_contents.append(gc_content)\n",
    "    return gc_contents"
   ]
  },
  {
   "cell_type": "code",
   "execution_count": 11,
   "metadata": {},
   "outputs": [
    {
     "name": "stdout",
     "output_type": "stream",
     "text": [
      "Median of Psittaci GC contents: 0.3942060872753942\n",
      "Median of Trachomatis GC contents: 0.4148590716818823\n"
     ]
    }
   ],
   "source": [
    "gc_psittaci = get_gc_contents('chlamydia_psittaci.ffn')\n",
    "gc_trachomatis = get_gc_contents('chlamydia_trachomatis.ffn')\n",
    "gc_psittaci_median = np.median(gc_psittaci)\n",
    "gc_trachomatis_median = np.median(gc_trachomatis)\n",
    "print(f\"Median of Psittaci GC contents: {gc_psittaci_median}\")\n",
    "print(f\"Median of Trachomatis GC contents: {gc_trachomatis_median}\")"
   ]
  },
  {
   "cell_type": "markdown",
   "metadata": {},
   "source": [
    "Permutation test the null hypothesis that the median of the GC content is \n",
    "the same for the two species"
   ]
  },
  {
   "cell_type": "code",
   "execution_count": 12,
   "metadata": {},
   "outputs": [],
   "source": [
    "def shuffle_gc_contents(gc_species_1, gc_species_2): # shuffles the GC content between two species\n",
    "    combined_gc = gc_species_1 + gc_species_2\n",
    "    \n",
    "    np.random.shuffle(combined_gc)\n",
    "    \n",
    "    # split the shuffled GC contents back into two species\n",
    "    shuffled_species_1 = combined_gc[:len(gc_species_1)]\n",
    "    shuffled_species_2 = combined_gc[len(gc_species_1): len(combined_gc)]\n",
    "    \n",
    "    return shuffled_species_1, shuffled_species_2"
   ]
  },
  {
   "cell_type": "code",
   "execution_count": 13,
   "metadata": {},
   "outputs": [],
   "source": [
    "def calculate_permutations(n_permutations, gc_species_1, gc_species_2): # returns tuples of gc contents for species 1 and 2\n",
    "    permutated_gc_content_medians = [] \n",
    "    for i in range(n_permutations):\n",
    "        shuffled_gc_contents_1, shuffled_gc_contents_2 = shuffle_gc_contents(gc_species_1, gc_species_2)  # Shuffle the sequence\n",
    "        permutated_gc_content_medians.append((np.median(shuffled_gc_contents_1), (np.median(shuffled_gc_contents_2))))\n",
    "    return permutated_gc_content_medians"
   ]
  },
  {
   "cell_type": "code",
   "execution_count": 14,
   "metadata": {},
   "outputs": [
    {
     "data": {
      "text/plain": [
       "[(np.float64(0.4026974951830443), np.float64(0.40523363356664155)),\n",
       " (np.float64(0.4031141868512111), np.float64(0.40476190476190477)),\n",
       " (np.float64(0.4046511627906977), np.float64(0.4031443950129071)),\n",
       " (np.float64(0.40325670498084293), np.float64(0.40441731257287883)),\n",
       " (np.float64(0.4029535864978903), np.float64(0.4048689403429372))]"
      ]
     },
     "execution_count": 14,
     "metadata": {},
     "output_type": "execute_result"
    }
   ],
   "source": [
    "n_permutations = 1000\n",
    "\n",
    "permutated_gc_content_medians = calculate_permutations(n_permutations, gc_psittaci, gc_trachomatis)\n",
    "permutated_gc_content_medians[:5]"
   ]
  },
  {
   "cell_type": "markdown",
   "metadata": {},
   "source": [
    "<small>Steps:\n",
    "\n",
    "Calculate the median GC content for each species in each permutation and find the absolute difference. Save this absolute difference to T_perms for each permutation.\n",
    "\n",
    "Calculate the p-value: The p-value is the proportion of permutated median differences that are greater than or equal to the observed difference.</small>"
   ]
  },
  {
   "cell_type": "code",
   "execution_count": 15,
   "metadata": {},
   "outputs": [
    {
     "data": {
      "text/plain": [
       "0.0"
      ]
     },
     "execution_count": 15,
     "metadata": {},
     "output_type": "execute_result"
    }
   ],
   "source": [
    "def get_differences_of_perms(perm_gc_content_medians):\n",
    "    T_perms = []\n",
    "    for gc_tuple in perm_gc_content_medians:\n",
    "        T_perm = np.abs(gc_tuple[0] - gc_tuple[1])\n",
    "        T_perms.append(T_perm)\n",
    "    return T_perms\n",
    "\n",
    "T_perms = get_differences_of_perms(permutated_gc_content_medians)\n",
    "T_obs = np.abs(np.median(gc_psittaci) - np.median(gc_trachomatis))\n",
    "\n",
    "# find p-value\n",
    "p_value = find_p_value(T_perms, T_obs)\n",
    "p_value"
   ]
  },
  {
   "cell_type": "markdown",
   "metadata": {},
   "source": [
    "The p-value of 0 strongly suggests to reject the null hypothesis that the\n",
    "median of the GC content is the same for the two species.\n",
    "\n",
    "Biological Interpretation: \n",
    "The p-value of 0 suggests a significant difference in the median GC content between Chlamydia psittaci and Chlamydia trachomatis. This indicates that the two species have distinct genomic compositions, likely reflecting differences in their evolutionary adaptations."
   ]
  },
  {
   "cell_type": "markdown",
   "metadata": {},
   "source": [
    "Task 3\n",
    "\n",
    "Try different sample sizes by subsampling the dataset. How does this change the permutation results?"
   ]
  },
  {
   "cell_type": "code",
   "execution_count": 16,
   "metadata": {},
   "outputs": [],
   "source": [
    "import random"
   ]
  },
  {
   "cell_type": "code",
   "execution_count": 17,
   "metadata": {},
   "outputs": [
    {
     "name": "stdout",
     "output_type": "stream",
     "text": [
      "Size of GC Psitacci Array: 1119\n",
      "Size of GC Trachomatis Array: 870\n"
     ]
    }
   ],
   "source": [
    "print(f\"Size of GC Psitacci Array: {len(gc_psittaci)}\")\n",
    "print(f\"Size of GC Trachomatis Array: {len(gc_trachomatis)}\")"
   ]
  },
  {
   "cell_type": "code",
   "execution_count": 18,
   "metadata": {},
   "outputs": [
    {
     "name": "stdout",
     "output_type": "stream",
     "text": [
      "[0.0, 0.0, 0.0, 0.0, 0.0]\n"
     ]
    }
   ],
   "source": [
    "sample_sizes = [(len(gc_psittaci)/100, len(gc_trachomatis)/100),\n",
    "                (len(gc_psittaci)/50, len(gc_trachomatis)/50),\n",
    "                (len(gc_psittaci)/20, len(gc_trachomatis)/20),\n",
    "                (len(gc_psittaci)/10, len(gc_trachomatis)/10),\n",
    "                (len(gc_psittaci)/5, len(gc_trachomatis)/5)]\n",
    "\n",
    "resampled_p_values = []\n",
    "\n",
    "for sample_size in sample_sizes:    # ordered ascending\n",
    "    sampled_gc_psittaci = random.sample(gc_psittaci, int(sample_size[0]))\n",
    "    # print(sampled_gc_psittaci[:5])\n",
    "    sampled_gc_trachomatis = random.sample(gc_trachomatis, int(sample_size[1]))\n",
    "    # print(sampled_gc_trachomatis[:5])\n",
    "    permutated_gc_content_medians_resample = calculate_permutations(n_permutations, sampled_gc_psittaci, sampled_gc_trachomatis)\n",
    "    T_perms_resample = get_differences_of_perms(permutated_gc_content_medians)\n",
    "    p_value = find_p_value(T_perms, T_obs)\n",
    "    resampled_p_values.append(p_value)\n",
    "\n",
    "print(resampled_p_values)"
   ]
  },
  {
   "cell_type": "markdown",
   "metadata": {
    "vscode": {
     "languageId": "bat"
    }
   },
   "source": [
    "Task 4\n",
    "\n",
    "Test for the difference in the maximum of the GC content instead of median"
   ]
  },
  {
   "cell_type": "code",
   "execution_count": 19,
   "metadata": {},
   "outputs": [],
   "source": [
    "def calculate_permutations_maximum(n_permutations, gc_species_1, gc_species_2): # returns tuples of gc contents for species 1 and 2\n",
    "    permutated_gc_content_maximums = [] \n",
    "    for i in range(n_permutations):\n",
    "        shuffled_gc_contents_1, shuffled_gc_contents_2 = shuffle_gc_contents(gc_species_1, gc_species_2)  # Shuffle the sequence\n",
    "        permutated_gc_content_maximums.append((np.max(shuffled_gc_contents_1), (np.max(shuffled_gc_contents_2))))\n",
    "    return permutated_gc_content_medians"
   ]
  },
  {
   "cell_type": "code",
   "execution_count": 20,
   "metadata": {},
   "outputs": [
    {
     "name": "stdout",
     "output_type": "stream",
     "text": [
      "[np.float64(0.0025361383835972306), np.float64(0.0016477179106936801), np.float64(0.0015067677777905741), np.float64(0.0011606075920359005), np.float64(0.0019153538450468743), np.float64(0.0005850552095905126), np.float64(0.000610964438461592), np.float64(0.0014294805973180669), np.float64(0.0005798211010761278), np.float64(0.0008127744148703764)]\n",
      "0.05830039525691699\n",
      "[0.0, 0.0, 0.0, 0.0, 0.0]\n"
     ]
    }
   ],
   "source": [
    "permutated_gc_content_maximums = calculate_permutations(n_permutations, gc_psittaci, gc_trachomatis)\n",
    "permutated_gc_content_maximums[:5]\n",
    "\n",
    "T_perms_max = get_differences_of_perms(permutated_gc_content_medians)\n",
    "print(T_perms_max[:10])\n",
    "T_obs_max = np.abs(np.max(gc_psittaci) - np.max(gc_trachomatis))\n",
    "print(T_obs_max)\n",
    "\n",
    "resampled_p_values_max = []\n",
    "\n",
    "for sample_size in sample_sizes:    # ordered ascending\n",
    "    sampled_gc_psittaci = random.sample(gc_psittaci, int(sample_size[0]))\n",
    "    # print(sampled_gc_psittaci[:5])\n",
    "    sampled_gc_trachomatis = random.sample(gc_trachomatis, int(sample_size[1]))\n",
    "    # print(sampled_gc_trachomatis[:5])\n",
    "    permutated_gc_content_medians_resample = calculate_permutations_maximum(n_permutations, sampled_gc_psittaci, sampled_gc_trachomatis)\n",
    "    T_perms_resample = get_differences_of_perms(permutated_gc_content_medians)\n",
    "    p_value = find_p_value(T_perms, T_obs)\n",
    "    resampled_p_values_max.append(p_value)\n",
    "\n",
    "print(resampled_p_values_max)"
   ]
  },
  {
   "cell_type": "code",
   "execution_count": 21,
   "metadata": {},
   "outputs": [],
   "source": [
    "# plot p-value relative to sample size"
   ]
  }
 ],
 "metadata": {
  "kernelspec": {
   "display_name": "fiora",
   "language": "python",
   "name": "python3"
  },
  "language_info": {
   "codemirror_mode": {
    "name": "ipython",
    "version": 3
   },
   "file_extension": ".py",
   "mimetype": "text/x-python",
   "name": "python",
   "nbconvert_exporter": "python",
   "pygments_lexer": "ipython3",
   "version": "3.10.8"
  }
 },
 "nbformat": 4,
 "nbformat_minor": 2
}
