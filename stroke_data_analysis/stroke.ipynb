{
 "cells": [
  {
   "cell_type": "code",
   "execution_count": 1,
   "metadata": {},
   "outputs": [
    {
     "data": {
      "text/html": [
       "\n",
       "            <div>\n",
       "                <p><b>SparkSession - in-memory</b></p>\n",
       "                \n",
       "        <div>\n",
       "            <p><b>SparkContext</b></p>\n",
       "\n",
       "            <p><a href=\"http://LAPTOP-BFS7K5MD.localdomain:4040\">Spark UI</a></p>\n",
       "\n",
       "            <dl>\n",
       "              <dt>Version</dt>\n",
       "                <dd><code>v3.5.3</code></dd>\n",
       "              <dt>Master</dt>\n",
       "                <dd><code>local[*]</code></dd>\n",
       "              <dt>AppName</dt>\n",
       "                <dd><code>pyspark-shell</code></dd>\n",
       "            </dl>\n",
       "        </div>\n",
       "        \n",
       "            </div>\n",
       "        "
      ],
      "text/plain": [
       "<pyspark.sql.session.SparkSession at 0x1f1aa8844c0>"
      ]
     },
     "execution_count": 1,
     "metadata": {},
     "output_type": "execute_result"
    }
   ],
   "source": [
    "# Import SparkSession\n",
    "from pyspark.sql import SparkSession\n",
    "# Create a Spark Session\n",
    "spark = SparkSession.builder.master(\"local[*]\").getOrCreate()\n",
    "# Check Spark Session Information\n",
    "spark"
   ]
  },
  {
   "cell_type": "code",
   "execution_count": 2,
   "metadata": {},
   "outputs": [],
   "source": [
    "from pyspark.sql.functions import col"
   ]
  },
  {
   "cell_type": "code",
   "execution_count": 3,
   "metadata": {},
   "outputs": [],
   "source": [
    "import numpy as np\n",
    "import pandas as pd\n",
    "import os"
   ]
  },
  {
   "cell_type": "code",
   "execution_count": 5,
   "metadata": {},
   "outputs": [],
   "source": [
    "from pyspark.sql import SparkSession\n",
    "import pyspark.sql as sparksql\n",
    "spark = SparkSession.builder.appName('stroke').getOrCreate()"
   ]
  },
  {
   "cell_type": "code",
   "execution_count": 7,
   "metadata": {},
   "outputs": [],
   "source": [
    "train = spark.read.csv('C:/Users/igali/OneDrive/Desktop/Bioinfo/WiSe 24-25/Intro to Focus Areas/Data Science/data/strokeData/train.csv', inferSchema=True,header=True)\n",
    "test = spark.read.csv('C:/Users/igali/OneDrive/Desktop/Bioinfo/WiSe 24-25/Intro to Focus Areas/Data Science/data/strokeData/test.csv', inferSchema=True,header=True)"
   ]
  },
  {
   "cell_type": "code",
   "execution_count": 9,
   "metadata": {},
   "outputs": [
    {
     "data": {
      "text/plain": [
       "[Row(id=36306, gender='Male', age=80.0, hypertension=0, heart_disease=0, ever_married='Yes', work_type='Private', Residence_type='Urban', avg_glucose_level=83.84, bmi=21.1, smoking_status='formerly smoked'),\n",
       " Row(id=61829, gender='Female', age=74.0, hypertension=0, heart_disease=1, ever_married='Yes', work_type='Self-employed', Residence_type='Rural', avg_glucose_level=179.5, bmi=26.0, smoking_status='formerly smoked'),\n",
       " Row(id=14152, gender='Female', age=14.0, hypertension=0, heart_disease=0, ever_married='No', work_type='children', Residence_type='Rural', avg_glucose_level=95.16, bmi=21.2, smoking_status=None),\n",
       " Row(id=12997, gender='Male', age=28.0, hypertension=0, heart_disease=0, ever_married='No', work_type='Private', Residence_type='Urban', avg_glucose_level=94.76, bmi=23.4, smoking_status=None),\n",
       " Row(id=40801, gender='Female', age=63.0, hypertension=0, heart_disease=0, ever_married='Yes', work_type='Govt_job', Residence_type='Rural', avg_glucose_level=83.57, bmi=27.6, smoking_status='never smoked')]"
      ]
     },
     "execution_count": 9,
     "metadata": {},
     "output_type": "execute_result"
    }
   ],
   "source": [
    "train.head(5)\n",
    "test.head(5)"
   ]
  },
  {
   "cell_type": "code",
   "execution_count": 10,
   "metadata": {},
   "outputs": [
    {
     "name": "stdout",
     "output_type": "stream",
     "text": [
      "root\n",
      " |-- id: integer (nullable = true)\n",
      " |-- gender: string (nullable = true)\n",
      " |-- age: double (nullable = true)\n",
      " |-- hypertension: integer (nullable = true)\n",
      " |-- heart_disease: integer (nullable = true)\n",
      " |-- ever_married: string (nullable = true)\n",
      " |-- work_type: string (nullable = true)\n",
      " |-- Residence_type: string (nullable = true)\n",
      " |-- avg_glucose_level: double (nullable = true)\n",
      " |-- bmi: double (nullable = true)\n",
      " |-- smoking_status: string (nullable = true)\n",
      " |-- stroke: integer (nullable = true)\n",
      "\n"
     ]
    }
   ],
   "source": [
    "train.printSchema()"
   ]
  },
  {
   "cell_type": "code",
   "execution_count": 11,
   "metadata": {},
   "outputs": [
    {
     "data": {
      "text/plain": [
       "[('id', 'int'),\n",
       " ('gender', 'string'),\n",
       " ('age', 'double'),\n",
       " ('hypertension', 'int'),\n",
       " ('heart_disease', 'int'),\n",
       " ('ever_married', 'string'),\n",
       " ('work_type', 'string'),\n",
       " ('Residence_type', 'string'),\n",
       " ('avg_glucose_level', 'double'),\n",
       " ('bmi', 'double'),\n",
       " ('smoking_status', 'string'),\n",
       " ('stroke', 'int')]"
      ]
     },
     "execution_count": 11,
     "metadata": {},
     "output_type": "execute_result"
    }
   ],
   "source": [
    "train.dtypes"
   ]
  },
  {
   "cell_type": "code",
   "execution_count": 12,
   "metadata": {},
   "outputs": [
    {
     "data": {
      "text/html": [
       "<div>\n",
       "<style scoped>\n",
       "    .dataframe tbody tr th:only-of-type {\n",
       "        vertical-align: middle;\n",
       "    }\n",
       "\n",
       "    .dataframe tbody tr th {\n",
       "        vertical-align: top;\n",
       "    }\n",
       "\n",
       "    .dataframe thead th {\n",
       "        text-align: right;\n",
       "    }\n",
       "</style>\n",
       "<table border=\"1\" class=\"dataframe\">\n",
       "  <thead>\n",
       "    <tr style=\"text-align: right;\">\n",
       "      <th></th>\n",
       "      <th>id</th>\n",
       "      <th>gender</th>\n",
       "      <th>age</th>\n",
       "      <th>hypertension</th>\n",
       "      <th>heart_disease</th>\n",
       "      <th>ever_married</th>\n",
       "      <th>work_type</th>\n",
       "      <th>Residence_type</th>\n",
       "      <th>avg_glucose_level</th>\n",
       "      <th>bmi</th>\n",
       "      <th>smoking_status</th>\n",
       "      <th>stroke</th>\n",
       "    </tr>\n",
       "  </thead>\n",
       "  <tbody>\n",
       "    <tr>\n",
       "      <th>0</th>\n",
       "      <td>30669</td>\n",
       "      <td>Male</td>\n",
       "      <td>3.0</td>\n",
       "      <td>0</td>\n",
       "      <td>0</td>\n",
       "      <td>No</td>\n",
       "      <td>children</td>\n",
       "      <td>Rural</td>\n",
       "      <td>95.12</td>\n",
       "      <td>18.0</td>\n",
       "      <td>None</td>\n",
       "      <td>0</td>\n",
       "    </tr>\n",
       "    <tr>\n",
       "      <th>1</th>\n",
       "      <td>30468</td>\n",
       "      <td>Male</td>\n",
       "      <td>58.0</td>\n",
       "      <td>1</td>\n",
       "      <td>0</td>\n",
       "      <td>Yes</td>\n",
       "      <td>Private</td>\n",
       "      <td>Urban</td>\n",
       "      <td>87.96</td>\n",
       "      <td>39.2</td>\n",
       "      <td>never smoked</td>\n",
       "      <td>0</td>\n",
       "    </tr>\n",
       "    <tr>\n",
       "      <th>2</th>\n",
       "      <td>16523</td>\n",
       "      <td>Female</td>\n",
       "      <td>8.0</td>\n",
       "      <td>0</td>\n",
       "      <td>0</td>\n",
       "      <td>No</td>\n",
       "      <td>Private</td>\n",
       "      <td>Urban</td>\n",
       "      <td>110.89</td>\n",
       "      <td>17.6</td>\n",
       "      <td>None</td>\n",
       "      <td>0</td>\n",
       "    </tr>\n",
       "    <tr>\n",
       "      <th>3</th>\n",
       "      <td>56543</td>\n",
       "      <td>Female</td>\n",
       "      <td>70.0</td>\n",
       "      <td>0</td>\n",
       "      <td>0</td>\n",
       "      <td>Yes</td>\n",
       "      <td>Private</td>\n",
       "      <td>Rural</td>\n",
       "      <td>69.04</td>\n",
       "      <td>35.9</td>\n",
       "      <td>formerly smoked</td>\n",
       "      <td>0</td>\n",
       "    </tr>\n",
       "    <tr>\n",
       "      <th>4</th>\n",
       "      <td>46136</td>\n",
       "      <td>Male</td>\n",
       "      <td>14.0</td>\n",
       "      <td>0</td>\n",
       "      <td>0</td>\n",
       "      <td>No</td>\n",
       "      <td>Never_worked</td>\n",
       "      <td>Rural</td>\n",
       "      <td>161.28</td>\n",
       "      <td>19.1</td>\n",
       "      <td>None</td>\n",
       "      <td>0</td>\n",
       "    </tr>\n",
       "  </tbody>\n",
       "</table>\n",
       "</div>"
      ],
      "text/plain": [
       "      id  gender   age  hypertension  heart_disease ever_married  \\\n",
       "0  30669    Male   3.0             0              0           No   \n",
       "1  30468    Male  58.0             1              0          Yes   \n",
       "2  16523  Female   8.0             0              0           No   \n",
       "3  56543  Female  70.0             0              0          Yes   \n",
       "4  46136    Male  14.0             0              0           No   \n",
       "\n",
       "      work_type Residence_type  avg_glucose_level   bmi   smoking_status  \\\n",
       "0      children          Rural              95.12  18.0             None   \n",
       "1       Private          Urban              87.96  39.2     never smoked   \n",
       "2       Private          Urban             110.89  17.6             None   \n",
       "3       Private          Rural              69.04  35.9  formerly smoked   \n",
       "4  Never_worked          Rural             161.28  19.1             None   \n",
       "\n",
       "   stroke  \n",
       "0       0  \n",
       "1       0  \n",
       "2       0  \n",
       "3       0  \n",
       "4       0  "
      ]
     },
     "execution_count": 12,
     "metadata": {},
     "output_type": "execute_result"
    }
   ],
   "source": [
    "train.toPandas().head(5)"
   ]
  },
  {
   "cell_type": "code",
   "execution_count": 13,
   "metadata": {},
   "outputs": [
    {
     "name": "stdout",
     "output_type": "stream",
     "text": [
      "+-------+------------------+------+------------------+-------------------+--------------------+------------+---------+--------------+------------------+------------------+---------------+\n",
      "|summary|                id|gender|               age|       hypertension|       heart_disease|ever_married|work_type|Residence_type| avg_glucose_level|               bmi| smoking_status|\n",
      "+-------+------------------+------+------------------+-------------------+--------------------+------------+---------+--------------+------------------+------------------+---------------+\n",
      "|  count|             18601| 18601|             18601|              18601|               18601|       18601|    18601|         18601|             18601|             18010|          12850|\n",
      "|   mean| 36747.36804472878|  NULL|42.056504489006024|0.09316703403042847|0.048061932154185256|        NULL|     NULL|          NULL| 104.3863593355191|28.545324819544625|           NULL|\n",
      "| stddev|21053.151123778684|  NULL|22.528017622414048|0.29067418204733125| 0.21390288127048365|        NULL|     NULL|          NULL|42.606714400087824| 7.757091805747331|           NULL|\n",
      "|    min|                 2|Female|              0.08|                  0|                   0|          No| Govt_job|         Rural|              55.0|              10.2|formerly smoked|\n",
      "|    max|             72942| Other|              82.0|                  1|                   1|         Yes| children|         Urban|            275.72|              88.3|         smokes|\n",
      "+-------+------------------+------+------------------+-------------------+--------------------+------------+---------+--------------+------------------+------------------+---------------+\n",
      "\n"
     ]
    }
   ],
   "source": [
    "test.describe().show()"
   ]
  },
  {
   "cell_type": "code",
   "execution_count": 14,
   "metadata": {},
   "outputs": [
    {
     "name": "stdout",
     "output_type": "stream",
     "text": [
      "+------+-----+\n",
      "|stroke|count|\n",
      "+------+-----+\n",
      "|     1|  783|\n",
      "|     0|42617|\n",
      "+------+-----+\n",
      "\n"
     ]
    }
   ],
   "source": [
    "train.groupBy('stroke').count().show()"
   ]
  },
  {
   "cell_type": "code",
   "execution_count": 15,
   "metadata": {},
   "outputs": [],
   "source": [
    "train.createOrReplaceTempView('table')"
   ]
  },
  {
   "cell_type": "code",
   "execution_count": 16,
   "metadata": {},
   "outputs": [
    {
     "name": "stdout",
     "output_type": "stream",
     "text": [
      "+-------------+---------------+\n",
      "|    work_type|work_type_count|\n",
      "+-------------+---------------+\n",
      "|      Private|            441|\n",
      "|Self-employed|            251|\n",
      "|     Govt_job|             89|\n",
      "|     children|              2|\n",
      "+-------------+---------------+\n",
      "\n",
      "+-------------+---------------+\n",
      "|    work_type|work_type_count|\n",
      "+-------------+---------------+\n",
      "|      Private|          24393|\n",
      "|Self-employed|           6542|\n",
      "|     children|           6154|\n",
      "|     Govt_job|           5351|\n",
      "| Never_worked|            177|\n",
      "+-------------+---------------+\n",
      "\n"
     ]
    }
   ],
   "source": [
    "# sql query to find the number of people in specific work_type who have had stroke and not\n",
    "spark.sql(\"SELECT work_type, COUNT(work_type) as work_type_count FROM table WHERE stroke == 1 GROUP BY work_type ORDER BY COUNT(work_type) DESC\").show()\n",
    "spark.sql(\"SELECT work_type, COUNT(work_type) as work_type_count FROM table WHERE stroke == 0 GROUP BY work_type ORDER BY COUNT(work_type) DESC\").show()"
   ]
  },
  {
   "cell_type": "code",
   "execution_count": 17,
   "metadata": {},
   "outputs": [
    {
     "name": "stdout",
     "output_type": "stream",
     "text": [
      "+------+------------+------------------+\n",
      "|gender|gender_count|        percentage|\n",
      "+------+------------+------------------+\n",
      "|  Male|         352|1.9860076732114647|\n",
      "+------+------------+------------------+\n",
      "\n",
      "+------+------------+------------------+\n",
      "|gender|gender_count|        percentage|\n",
      "+------+------------+------------------+\n",
      "|Female|         431|1.6793298266121177|\n",
      "+------+------------+------------------+\n",
      "\n"
     ]
    }
   ],
   "source": [
    "spark.sql(\"SELECT gender, COUNT(gender) as gender_count, COUNT(gender)*100/(SELECT COUNT(gender) FROM table WHERE gender == 'Male') as percentage FROM table WHERE stroke== 1 AND gender = 'Male' GROUP BY gender\").show()\n",
    "spark.sql(\"SELECT gender, COUNT(gender) as gender_count, COUNT(gender)*100/(SELECT COUNT(gender) FROM table WHERE gender == 'Female') as percentage FROM table WHERE stroke== 1 AND gender = 'Female' GROUP BY gender\").show()"
   ]
  },
  {
   "cell_type": "code",
   "execution_count": 31,
   "metadata": {},
   "outputs": [
    {
     "name": "stdout",
     "output_type": "stream",
     "text": [
      "+------------+-------------+------------------+\n",
      "|ever_married|married_count|        percentage|\n",
      "+------------+-------------+------------------+\n",
      "|          No|        15462|35.626728110599075|\n",
      "|         Yes|        27938| 64.37327188940091|\n",
      "+------------+-------------+------------------+\n",
      "\n",
      "+------------+-------------+------------------+\n",
      "|ever_married|married_count|        percentage|\n",
      "+------------+-------------+------------------+\n",
      "|          No|         6631|15.278801843317972|\n",
      "|         Yes|        11093| 25.55990783410138|\n",
      "+------------+-------------+------------------+\n",
      "\n",
      "+------------+-------------+------------------+\n",
      "|ever_married|married_count|        percentage|\n",
      "+------------+-------------+------------------+\n",
      "|          No|         8825|20.334101382488477|\n",
      "|         Yes|        16840| 38.80184331797235|\n",
      "+------------+-------------+------------------+\n",
      "\n"
     ]
    }
   ],
   "source": [
    "# comparison ever-married/never-married, comparison ever-married/never-married for males, comparison ever-married/never-married for females\n",
    "spark.sql(\"\"\"\n",
    "    SELECT \n",
    "        ever_married, \n",
    "        COUNT(ever_married) AS married_count, \n",
    "        (COUNT(ever_married) / (SELECT COUNT(*) FROM table)) * 100 AS percentage\n",
    "    FROM \n",
    "        table \n",
    "    GROUP BY \n",
    "        ever_married\n",
    "\"\"\").show()\n",
    "\n",
    "spark.sql(\"\"\"\n",
    "    SELECT \n",
    "        ever_married, \n",
    "        COUNT(ever_married) AS married_count, \n",
    "        (COUNT(ever_married) / (SELECT COUNT(*) FROM table)) * 100 AS percentage\n",
    "    FROM \n",
    "        table \n",
    "    WHERE\n",
    "        gender == \"Male\"\n",
    "    GROUP BY \n",
    "        ever_married\n",
    "\"\"\").show()\n",
    "\n",
    "\n",
    "\n",
    "spark.sql(\"\"\"\n",
    "    SELECT \n",
    "        ever_married, \n",
    "        COUNT(ever_married) AS married_count, \n",
    "        (COUNT(ever_married) / (SELECT COUNT(*) FROM table)) * 100 AS percentage\n",
    "    FROM \n",
    "        table\n",
    "    WHERE\n",
    "        gender == \"Female\"\n",
    "    GROUP BY \n",
    "        ever_married\n",
    "\"\"\").show()"
   ]
  },
  {
   "cell_type": "code",
   "execution_count": 35,
   "metadata": {},
   "outputs": [
    {
     "name": "stdout",
     "output_type": "stream",
     "text": [
      "+-----------------+\n",
      "|       percentage|\n",
      "+-----------------+\n",
      "|91.57088122605364|\n",
      "+-----------------+\n",
      "\n"
     ]
    }
   ],
   "source": [
    "# inner select counts all strokes\n",
    "\n",
    "spark.sql(\"\"\"\n",
    "    SELECT \n",
    "        COUNT(age) * 100 / (SELECT COUNT(age) FROM table WHERE stroke == 1) AS percentage \n",
    "    FROM \n",
    "        table \n",
    "    WHERE \n",
    "        stroke == 1 \n",
    "        AND age >= 50\"\"\").show()"
   ]
  },
  {
   "cell_type": "code",
   "execution_count": 36,
   "metadata": {},
   "outputs": [
    {
     "name": "stdout",
     "output_type": "stream",
     "text": [
      "+-------+-----------------+------+------------------+-------------------+-------------------+------------+---------+--------------+------------------+------------------+---------------+-------------------+\n",
      "|summary|               id|gender|               age|       hypertension|      heart_disease|ever_married|work_type|Residence_type| avg_glucose_level|               bmi| smoking_status|             stroke|\n",
      "+-------+-----------------+------+------------------+-------------------+-------------------+------------+---------+--------------+------------------+------------------+---------------+-------------------+\n",
      "|  count|            43400| 43400|             43400|              43400|              43400|       43400|    43400|         43400|             43400|             41938|          30108|              43400|\n",
      "|   mean|36326.14235023042|  NULL| 42.21789400921646|0.09357142857142857|0.04751152073732719|        NULL|     NULL|          NULL|104.48274999999916|28.605038390004545|           NULL|0.01804147465437788|\n",
      "| stddev|21072.13487918279|  NULL|22.519648680503554|  0.291234906309397|0.21273274050209726|        NULL|     NULL|          NULL|  43.1117509512961| 7.770020497238766|           NULL|0.13310292280179215|\n",
      "|    min|                1|Female|              0.08|                  0|                  0|          No| Govt_job|         Rural|              55.0|              10.1|formerly smoked|                  0|\n",
      "|    max|            72943| Other|              82.0|                  1|                  1|         Yes| children|         Urban|            291.05|              97.6|         smokes|                  1|\n",
      "+-------+-----------------+------+------------------+-------------------+-------------------+------------+---------+--------------+------------------+------------------+---------------+-------------------+\n",
      "\n"
     ]
    }
   ],
   "source": [
    "train.describe().show()"
   ]
  },
  {
   "cell_type": "code",
   "execution_count": 37,
   "metadata": {},
   "outputs": [],
   "source": [
    "train_f = train.na.fill('No Info', subset=['smoking_status'])\n",
    "test_f = test.na.fill('No Info', subset=['smoking_status'])"
   ]
  },
  {
   "cell_type": "code",
   "execution_count": 38,
   "metadata": {},
   "outputs": [],
   "source": [
    "from pyspark.sql.functions import mean\n",
    "mean = train_f.select(mean(train_f['bmi'])).collect()\n",
    "mean_bmi = mean[0][0]\n",
    "train_f = train_f.na.fill(mean_bmi,['bmi'])\n",
    "test_f = test_f.na.fill(mean_bmi,['bmi'])"
   ]
  },
  {
   "cell_type": "code",
   "execution_count": 39,
   "metadata": {},
   "outputs": [
    {
     "name": "stdout",
     "output_type": "stream",
     "text": [
      "+-------+-----------------+------+------------------+-------------------+-------------------+------------+---------+--------------+------------------+------------------+--------------+-------------------+\n",
      "|summary|               id|gender|               age|       hypertension|      heart_disease|ever_married|work_type|Residence_type| avg_glucose_level|               bmi|smoking_status|             stroke|\n",
      "+-------+-----------------+------+------------------+-------------------+-------------------+------------+---------+--------------+------------------+------------------+--------------+-------------------+\n",
      "|  count|            43400| 43400|             43400|              43400|              43400|       43400|    43400|         43400|             43400|             43400|         43400|              43400|\n",
      "|   mean|36326.14235023042|  NULL| 42.21789400921646|0.09357142857142857|0.04751152073732719|        NULL|     NULL|          NULL|104.48274999999916|28.605038390005145|          NULL|0.01804147465437788|\n",
      "| stddev|21072.13487918279|  NULL|22.519648680503554|  0.291234906309397|0.21273274050209726|        NULL|     NULL|          NULL|  43.1117509512961| 7.638023372051845|          NULL|0.13310292280179215|\n",
      "|    min|                1|Female|              0.08|                  0|                  0|          No| Govt_job|         Rural|              55.0|              10.1|       No Info|                  0|\n",
      "|    max|            72943| Other|              82.0|                  1|                  1|         Yes| children|         Urban|            291.05|              97.6|        smokes|                  1|\n",
      "+-------+-----------------+------+------------------+-------------------+-------------------+------------+---------+--------------+------------------+------------------+--------------+-------------------+\n",
      "\n"
     ]
    }
   ],
   "source": [
    "train_f.describe().show()"
   ]
  },
  {
   "cell_type": "code",
   "execution_count": 40,
   "metadata": {},
   "outputs": [],
   "source": [
    "\n",
    "from pyspark.ml.feature import StringIndexer\n",
    "indexer1 = StringIndexer(inputCol=\"gender\", outputCol=\"genderIndex\")\n",
    "indexer2 = StringIndexer(inputCol=\"ever_married\", outputCol=\"ever_marriedIndex\")\n",
    "indexer3 = StringIndexer(inputCol=\"work_type\", outputCol=\"work_typeIndex\")\n",
    "indexer4 = StringIndexer(inputCol=\"Residence_type\", outputCol=\"Residence_typeIndex\")\n",
    "indexer5 = StringIndexer(inputCol=\"smoking_status\", outputCol=\"smoking_statusIndex\")"
   ]
  },
  {
   "cell_type": "code",
   "execution_count": 43,
   "metadata": {},
   "outputs": [],
   "source": [
    "from pyspark.ml.feature import OneHotEncoder\n",
    "encoder = OneHotEncoder(inputCols=[\"genderIndex\",\"ever_marriedIndex\",\"work_typeIndex\",\"Residence_typeIndex\",\"smoking_statusIndex\"],\n",
    "                        outputCols=[\"genderVec\",\"ever_marriedVec\",\"work_typeVec\",\"Residence_typeVec\",\"smoking_statusVec\"])"
   ]
  },
  {
   "cell_type": "code",
   "execution_count": 44,
   "metadata": {},
   "outputs": [],
   "source": [
    "from pyspark.ml.feature import VectorAssembler\n",
    "assembler = VectorAssembler(inputCols=['genderVec',\n",
    " 'age',\n",
    " 'hypertension',\n",
    " 'heart_disease',\n",
    " 'ever_marriedVec',\n",
    " 'work_typeVec',\n",
    " 'Residence_typeVec',\n",
    " 'avg_glucose_level',\n",
    " 'bmi',\n",
    " 'smoking_statusVec'],outputCol='features')"
   ]
  },
  {
   "cell_type": "code",
   "execution_count": 45,
   "metadata": {},
   "outputs": [],
   "source": [
    "from pyspark.ml.classification import DecisionTreeClassifier\n",
    "dtc = DecisionTreeClassifier(labelCol='stroke',featuresCol='features')"
   ]
  },
  {
   "cell_type": "code",
   "execution_count": 46,
   "metadata": {},
   "outputs": [],
   "source": [
    "from pyspark.ml import Pipeline\n",
    "pipeline = Pipeline(stages=[indexer1, indexer2, indexer3, indexer4, indexer5, encoder, assembler, dtc])"
   ]
  },
  {
   "cell_type": "code",
   "execution_count": 47,
   "metadata": {},
   "outputs": [],
   "source": [
    "train_data,val_data = train_f.randomSplit([0.7,0.3])\n",
    "\n",
    "model = pipeline.fit(train_data)"
   ]
  },
  {
   "cell_type": "code",
   "execution_count": 49,
   "metadata": {},
   "outputs": [
    {
     "name": "stdout",
     "output_type": "stream",
     "text": [
      "+----------+--------------------+------+--------------------+\n",
      "|prediction|         probability|stroke|            features|\n",
      "+----------+--------------------+------+--------------------+\n",
      "|       0.0|[0.99192239160562...|     0|(16,[0,2,5,6,10,1...|\n",
      "|       0.0|[0.99192239160562...|     0|(16,[1,2,3,5,7,11...|\n",
      "|       0.0|[0.99192239160562...|     0|(16,[0,2,6,11,12,...|\n",
      "|       0.0|[0.99192239160562...|     0|(16,[0,2,5,6,10,1...|\n",
      "|       0.0|[0.99192239160562...|     0|(16,[1,2,3,6,11,1...|\n",
      "|       0.0|[0.99192239160562...|     0|(16,[0,2,8,11,12,...|\n",
      "|       0.0|[0.99192239160562...|     0|(16,[1,2,5,6,11,1...|\n",
      "|       0.0|[0.99192239160562...|     0|(16,[1,2,5,6,10,1...|\n",
      "|       0.0|[0.99192239160562...|     0|(16,[0,2,6,10,11,...|\n",
      "|       0.0|[0.99192239160562...|     0|(16,[1,2,5,6,10,1...|\n",
      "+----------+--------------------+------+--------------------+\n",
      "only showing top 10 rows\n",
      "\n"
     ]
    }
   ],
   "source": [
    "dtc_predictions = model.transform(val_data)\n",
    "\n",
    "dtc_predictions.select(\"prediction\",\"probability\", \"stroke\", \"features\").show(10)"
   ]
  },
  {
   "cell_type": "code",
   "execution_count": 51,
   "metadata": {},
   "outputs": [
    {
     "name": "stdout",
     "output_type": "stream",
     "text": [
      "A Decision Tree algorithm had an accuracy of: 98.16%\n"
     ]
    }
   ],
   "source": [
    "from pyspark.ml.evaluation import MulticlassClassificationEvaluator\n",
    "\n",
    "acc_evaluator = MulticlassClassificationEvaluator(labelCol=\"stroke\", predictionCol=\"prediction\", metricName=\"accuracy\")\n",
    "dtc_acc = acc_evaluator.evaluate(dtc_predictions)\n",
    "print('A Decision Tree algorithm had an accuracy of: {0:2.2f}%'.format(dtc_acc*100))\n",
    "\n",
    "# dataset unbalanced, lots of people with no stroke and much less with stroke"
   ]
  },
  {
   "cell_type": "code",
   "execution_count": 52,
   "metadata": {},
   "outputs": [
    {
     "data": {
      "text/html": [
       "<div>\n",
       "<style scoped>\n",
       "    .dataframe tbody tr th:only-of-type {\n",
       "        vertical-align: middle;\n",
       "    }\n",
       "\n",
       "    .dataframe tbody tr th {\n",
       "        vertical-align: top;\n",
       "    }\n",
       "\n",
       "    .dataframe thead th {\n",
       "        text-align: right;\n",
       "    }\n",
       "</style>\n",
       "<table border=\"1\" class=\"dataframe\">\n",
       "  <thead>\n",
       "    <tr style=\"text-align: right;\">\n",
       "      <th></th>\n",
       "      <th>id</th>\n",
       "      <th>features</th>\n",
       "      <th>prediction</th>\n",
       "      <th>probability</th>\n",
       "    </tr>\n",
       "  </thead>\n",
       "  <tbody>\n",
       "    <tr>\n",
       "      <th>0</th>\n",
       "      <td>36306</td>\n",
       "      <td>(0.0, 1.0, 80.0, 0.0, 0.0, 1.0, 1.0, 0.0, 0.0,...</td>\n",
       "      <td>0.0</td>\n",
       "      <td>[0.9232060428031893, 0.07679395719681074]</td>\n",
       "    </tr>\n",
       "    <tr>\n",
       "      <th>1</th>\n",
       "      <td>61829</td>\n",
       "      <td>(1.0, 0.0, 74.0, 0.0, 1.0, 1.0, 0.0, 1.0, 0.0,...</td>\n",
       "      <td>0.0</td>\n",
       "      <td>[0.892512077294686, 0.10748792270531402]</td>\n",
       "    </tr>\n",
       "    <tr>\n",
       "      <th>2</th>\n",
       "      <td>14152</td>\n",
       "      <td>(1.0, 0.0, 14.0, 0.0, 0.0, 0.0, 0.0, 0.0, 1.0,...</td>\n",
       "      <td>0.0</td>\n",
       "      <td>[0.9919223916056227, 0.00807760839437735]</td>\n",
       "    </tr>\n",
       "    <tr>\n",
       "      <th>3</th>\n",
       "      <td>12997</td>\n",
       "      <td>(0.0, 1.0, 28.0, 0.0, 0.0, 0.0, 1.0, 0.0, 0.0,...</td>\n",
       "      <td>0.0</td>\n",
       "      <td>[0.9919223916056227, 0.00807760839437735]</td>\n",
       "    </tr>\n",
       "    <tr>\n",
       "      <th>4</th>\n",
       "      <td>40801</td>\n",
       "      <td>(1.0, 0.0, 63.0, 0.0, 0.0, 1.0, 0.0, 0.0, 0.0,...</td>\n",
       "      <td>0.0</td>\n",
       "      <td>[0.9919223916056227, 0.00807760839437735]</td>\n",
       "    </tr>\n",
       "    <tr>\n",
       "      <th>5</th>\n",
       "      <td>9348</td>\n",
       "      <td>(1.0, 0.0, 66.0, 1.0, 0.0, 1.0, 1.0, 0.0, 0.0,...</td>\n",
       "      <td>0.0</td>\n",
       "      <td>[0.9919223916056227, 0.00807760839437735]</td>\n",
       "    </tr>\n",
       "    <tr>\n",
       "      <th>6</th>\n",
       "      <td>51550</td>\n",
       "      <td>(1.0, 0.0, 49.0, 0.0, 0.0, 1.0, 0.0, 1.0, 0.0,...</td>\n",
       "      <td>0.0</td>\n",
       "      <td>[0.9919223916056227, 0.00807760839437735]</td>\n",
       "    </tr>\n",
       "    <tr>\n",
       "      <th>7</th>\n",
       "      <td>60512</td>\n",
       "      <td>(0.0, 1.0, 46.0, 0.0, 0.0, 1.0, 0.0, 0.0, 0.0,...</td>\n",
       "      <td>0.0</td>\n",
       "      <td>[0.9919223916056227, 0.00807760839437735]</td>\n",
       "    </tr>\n",
       "    <tr>\n",
       "      <th>8</th>\n",
       "      <td>31309</td>\n",
       "      <td>(1.0, 0.0, 75.0, 0.0, 0.0, 1.0, 0.0, 1.0, 0.0,...</td>\n",
       "      <td>0.0</td>\n",
       "      <td>[0.9232060428031893, 0.07679395719681074]</td>\n",
       "    </tr>\n",
       "    <tr>\n",
       "      <th>9</th>\n",
       "      <td>39199</td>\n",
       "      <td>(0.0, 1.0, 75.0, 0.0, 0.0, 1.0, 0.0, 1.0, 0.0,...</td>\n",
       "      <td>0.0</td>\n",
       "      <td>[0.9232060428031893, 0.07679395719681074]</td>\n",
       "    </tr>\n",
       "  </tbody>\n",
       "</table>\n",
       "</div>"
      ],
      "text/plain": [
       "      id                                           features  prediction  \\\n",
       "0  36306  (0.0, 1.0, 80.0, 0.0, 0.0, 1.0, 1.0, 0.0, 0.0,...         0.0   \n",
       "1  61829  (1.0, 0.0, 74.0, 0.0, 1.0, 1.0, 0.0, 1.0, 0.0,...         0.0   \n",
       "2  14152  (1.0, 0.0, 14.0, 0.0, 0.0, 0.0, 0.0, 0.0, 1.0,...         0.0   \n",
       "3  12997  (0.0, 1.0, 28.0, 0.0, 0.0, 0.0, 1.0, 0.0, 0.0,...         0.0   \n",
       "4  40801  (1.0, 0.0, 63.0, 0.0, 0.0, 1.0, 0.0, 0.0, 0.0,...         0.0   \n",
       "5   9348  (1.0, 0.0, 66.0, 1.0, 0.0, 1.0, 1.0, 0.0, 0.0,...         0.0   \n",
       "6  51550  (1.0, 0.0, 49.0, 0.0, 0.0, 1.0, 0.0, 1.0, 0.0,...         0.0   \n",
       "7  60512  (0.0, 1.0, 46.0, 0.0, 0.0, 1.0, 0.0, 0.0, 0.0,...         0.0   \n",
       "8  31309  (1.0, 0.0, 75.0, 0.0, 0.0, 1.0, 0.0, 1.0, 0.0,...         0.0   \n",
       "9  39199  (0.0, 1.0, 75.0, 0.0, 0.0, 1.0, 0.0, 1.0, 0.0,...         0.0   \n",
       "\n",
       "                                 probability  \n",
       "0  [0.9232060428031893, 0.07679395719681074]  \n",
       "1   [0.892512077294686, 0.10748792270531402]  \n",
       "2  [0.9919223916056227, 0.00807760839437735]  \n",
       "3  [0.9919223916056227, 0.00807760839437735]  \n",
       "4  [0.9919223916056227, 0.00807760839437735]  \n",
       "5  [0.9919223916056227, 0.00807760839437735]  \n",
       "6  [0.9919223916056227, 0.00807760839437735]  \n",
       "7  [0.9919223916056227, 0.00807760839437735]  \n",
       "8  [0.9232060428031893, 0.07679395719681074]  \n",
       "9  [0.9232060428031893, 0.07679395719681074]  "
      ]
     },
     "execution_count": 52,
     "metadata": {},
     "output_type": "execute_result"
    }
   ],
   "source": [
    "test_pred = model.transform(test_f)\n",
    "test_selected = test_pred.select(\"id\", \"features\", \"prediction\",\"probability\")\n",
    "test_selected.limit(10).toPandas()"
   ]
  },
  {
   "cell_type": "code",
   "execution_count": null,
   "metadata": {},
   "outputs": [],
   "source": []
  }
 ],
 "metadata": {
  "kernelspec": {
   "display_name": "Python 3",
   "language": "python",
   "name": "python3"
  },
  "language_info": {
   "codemirror_mode": {
    "name": "ipython",
    "version": 3
   },
   "file_extension": ".py",
   "mimetype": "text/x-python",
   "name": "python",
   "nbconvert_exporter": "python",
   "pygments_lexer": "ipython3",
   "version": "3.9.6"
  }
 },
 "nbformat": 4,
 "nbformat_minor": 2
}
