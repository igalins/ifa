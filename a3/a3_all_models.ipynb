{
 "cells": [
  {
   "cell_type": "markdown",
   "metadata": {},
   "source": [
    "<h1>Assignment 2 Group 10 (Renk, Leon and Payal) </h1>"
   ]
  },
  {
   "cell_type": "code",
   "execution_count": 5,
   "metadata": {},
   "outputs": [],
   "source": [
    "import tarfile\n",
    "import pandas as pd\n",
    "import os"
   ]
  },
  {
   "cell_type": "code",
   "execution_count": 6,
   "metadata": {},
   "outputs": [
    {
     "data": {
      "text/plain": [
       "0"
      ]
     },
     "execution_count": 6,
     "metadata": {},
     "output_type": "execute_result"
    }
   ],
   "source": [
    "def count_png_files_in_folder(folder_path):\n",
    "    png_count = 0\n",
    "    \n",
    "    for root, dirs, files in os.walk(folder_path):\n",
    "        png_count += sum(1 for file in files if file.endswith('.png'))\n",
    "    return png_count\n",
    "\n",
    "count_png_files_in_folder(\"/Users/renkasik/Desktop/Intro To Focus Areas/data/BreaKHis_v1\")\n"
   ]
  },
  {
   "cell_type": "markdown",
   "metadata": {},
   "source": [
    "Import data to df with Benign/Malignant IDs and choosing magnification"
   ]
  },
  {
   "cell_type": "code",
   "execution_count": 7,
   "metadata": {},
   "outputs": [],
   "source": [
    "def extract_image_labels(folder_path, magnification_lvl): \n",
    "    file_paths = []\n",
    "    labels = []\n",
    "\n",
    "    for root, dirs, files in os.walk(folder_path):\n",
    "        for file_name in files:\n",
    "            if file_name.endswith('.png'):\n",
    "                file_path = os.path.join(root, file_name)\n",
    "                # Extract parts of the filename\n",
    "                parts = file_name.split('-')\n",
    "\n",
    "                label = parts[0].split('_')[1]  # 'M' or 'B' indicating malignancy\n",
    "                magnification = parts[3]  # Magnification levels\n",
    "                    \n",
    "                # Filter for images with 100x magnification\n",
    "                if magnification == str(magnification_lvl):\n",
    "                    labels.append(label)\n",
    "                    file_paths.append(file_path)\n",
    "    \n",
    "    # Create a DataFrame with the extracted data\n",
    "    df = pd.DataFrame({\n",
    "        'FilePath': file_paths,\n",
    "        'Label': labels\n",
    "    })\n",
    "    \n",
    "    return df\n"
   ]
  },
  {
   "cell_type": "code",
   "execution_count": 8,
   "metadata": {},
   "outputs": [],
   "source": [
    "image_labels_df = extract_image_labels(\"/Users/renkasik/Desktop/Intro To Focus Areas/data/BreaKHis_v1\", 100)"
   ]
  },
  {
   "cell_type": "code",
   "execution_count": 9,
   "metadata": {},
   "outputs": [
    {
     "data": {
      "text/html": [
       "<div>\n",
       "<style scoped>\n",
       "    .dataframe tbody tr th:only-of-type {\n",
       "        vertical-align: middle;\n",
       "    }\n",
       "\n",
       "    .dataframe tbody tr th {\n",
       "        vertical-align: top;\n",
       "    }\n",
       "\n",
       "    .dataframe thead th {\n",
       "        text-align: right;\n",
       "    }\n",
       "</style>\n",
       "<table border=\"1\" class=\"dataframe\">\n",
       "  <thead>\n",
       "    <tr style=\"text-align: right;\">\n",
       "      <th></th>\n",
       "      <th>FilePath</th>\n",
       "      <th>Label</th>\n",
       "    </tr>\n",
       "  </thead>\n",
       "  <tbody>\n",
       "  </tbody>\n",
       "</table>\n",
       "</div>"
      ],
      "text/plain": [
       "Empty DataFrame\n",
       "Columns: [FilePath, Label]\n",
       "Index: []"
      ]
     },
     "execution_count": 9,
     "metadata": {},
     "output_type": "execute_result"
    }
   ],
   "source": [
    "image_labels_df.head(5)"
   ]
  },
  {
   "cell_type": "markdown",
   "metadata": {},
   "source": [
    "<h3> Split data into train. test and validation sets </h3>"
   ]
  },
  {
   "cell_type": "code",
   "execution_count": 10,
   "metadata": {},
   "outputs": [],
   "source": [
    "from sklearn.model_selection import train_test_split"
   ]
  },
  {
   "cell_type": "code",
   "execution_count": 11,
   "metadata": {},
   "outputs": [
    {
     "ename": "ValueError",
     "evalue": "With n_samples=0, test_size=0.3 and train_size=None, the resulting train set will be empty. Adjust any of the aforementioned parameters.",
     "output_type": "error",
     "traceback": [
      "\u001b[1;31m---------------------------------------------------------------------------\u001b[0m",
      "\u001b[1;31mValueError\u001b[0m                                Traceback (most recent call last)",
      "Input \u001b[1;32mIn [11]\u001b[0m, in \u001b[0;36m<cell line: 3>\u001b[1;34m()\u001b[0m\n\u001b[0;32m      1\u001b[0m labels \u001b[38;5;241m=\u001b[39m image_labels_df[\u001b[38;5;124m'\u001b[39m\u001b[38;5;124mLabel\u001b[39m\u001b[38;5;124m'\u001b[39m]\n\u001b[1;32m----> 3\u001b[0m X_train, X_temp \u001b[38;5;241m=\u001b[39m \u001b[43mtrain_test_split\u001b[49m\u001b[43m(\u001b[49m\u001b[43mimage_labels_df\u001b[49m\u001b[43m,\u001b[49m\u001b[43m \u001b[49m\u001b[43mtest_size\u001b[49m\u001b[38;5;241;43m=\u001b[39;49m\u001b[38;5;241;43m0.3\u001b[39;49m\u001b[43m,\u001b[49m\u001b[43m \u001b[49m\u001b[43mstratify\u001b[49m\u001b[38;5;241;43m=\u001b[39;49m\u001b[43mlabels\u001b[49m\u001b[43m,\u001b[49m\u001b[43m \u001b[49m\u001b[43mrandom_state\u001b[49m\u001b[43m \u001b[49m\u001b[38;5;241;43m=\u001b[39;49m\u001b[43m \u001b[49m\u001b[38;5;241;43m42\u001b[39;49m\u001b[43m)\u001b[49m\n\u001b[0;32m      5\u001b[0m label_test_val \u001b[38;5;241m=\u001b[39m X_temp[\u001b[38;5;124m'\u001b[39m\u001b[38;5;124mLabel\u001b[39m\u001b[38;5;124m'\u001b[39m]\n\u001b[0;32m      7\u001b[0m X_test, X_val \u001b[38;5;241m=\u001b[39m train_test_split(X_temp, test_size\u001b[38;5;241m=\u001b[39m\u001b[38;5;241m0.5\u001b[39m, stratify\u001b[38;5;241m=\u001b[39mlabel_test_val, random_state \u001b[38;5;241m=\u001b[39m \u001b[38;5;241m42\u001b[39m)\n",
      "File \u001b[1;32mc:\\Users\\igali\\AppData\\Local\\Programs\\Python\\Python39\\lib\\site-packages\\sklearn\\utils\\_param_validation.py:213\u001b[0m, in \u001b[0;36mvalidate_params.<locals>.decorator.<locals>.wrapper\u001b[1;34m(*args, **kwargs)\u001b[0m\n\u001b[0;32m    207\u001b[0m \u001b[38;5;28;01mtry\u001b[39;00m:\n\u001b[0;32m    208\u001b[0m     \u001b[38;5;28;01mwith\u001b[39;00m config_context(\n\u001b[0;32m    209\u001b[0m         skip_parameter_validation\u001b[38;5;241m=\u001b[39m(\n\u001b[0;32m    210\u001b[0m             prefer_skip_nested_validation \u001b[38;5;129;01mor\u001b[39;00m global_skip_validation\n\u001b[0;32m    211\u001b[0m         )\n\u001b[0;32m    212\u001b[0m     ):\n\u001b[1;32m--> 213\u001b[0m         \u001b[38;5;28;01mreturn\u001b[39;00m func(\u001b[38;5;241m*\u001b[39margs, \u001b[38;5;241m*\u001b[39m\u001b[38;5;241m*\u001b[39mkwargs)\n\u001b[0;32m    214\u001b[0m \u001b[38;5;28;01mexcept\u001b[39;00m InvalidParameterError \u001b[38;5;28;01mas\u001b[39;00m e:\n\u001b[0;32m    215\u001b[0m     \u001b[38;5;66;03m# When the function is just a wrapper around an estimator, we allow\u001b[39;00m\n\u001b[0;32m    216\u001b[0m     \u001b[38;5;66;03m# the function to delegate validation to the estimator, but we replace\u001b[39;00m\n\u001b[0;32m    217\u001b[0m     \u001b[38;5;66;03m# the name of the estimator by the name of the function in the error\u001b[39;00m\n\u001b[0;32m    218\u001b[0m     \u001b[38;5;66;03m# message to avoid confusion.\u001b[39;00m\n\u001b[0;32m    219\u001b[0m     msg \u001b[38;5;241m=\u001b[39m re\u001b[38;5;241m.\u001b[39msub(\n\u001b[0;32m    220\u001b[0m         \u001b[38;5;124mr\u001b[39m\u001b[38;5;124m\"\u001b[39m\u001b[38;5;124mparameter of \u001b[39m\u001b[38;5;124m\\\u001b[39m\u001b[38;5;124mw+ must be\u001b[39m\u001b[38;5;124m\"\u001b[39m,\n\u001b[0;32m    221\u001b[0m         \u001b[38;5;124mf\u001b[39m\u001b[38;5;124m\"\u001b[39m\u001b[38;5;124mparameter of \u001b[39m\u001b[38;5;132;01m{\u001b[39;00mfunc\u001b[38;5;241m.\u001b[39m\u001b[38;5;18m__qualname__\u001b[39m\u001b[38;5;132;01m}\u001b[39;00m\u001b[38;5;124m must be\u001b[39m\u001b[38;5;124m\"\u001b[39m,\n\u001b[0;32m    222\u001b[0m         \u001b[38;5;28mstr\u001b[39m(e),\n\u001b[0;32m    223\u001b[0m     )\n",
      "File \u001b[1;32mc:\\Users\\igali\\AppData\\Local\\Programs\\Python\\Python39\\lib\\site-packages\\sklearn\\model_selection\\_split.py:2785\u001b[0m, in \u001b[0;36mtrain_test_split\u001b[1;34m(test_size, train_size, random_state, shuffle, stratify, *arrays)\u001b[0m\n\u001b[0;32m   2782\u001b[0m arrays \u001b[38;5;241m=\u001b[39m indexable(\u001b[38;5;241m*\u001b[39marrays)\n\u001b[0;32m   2784\u001b[0m n_samples \u001b[38;5;241m=\u001b[39m _num_samples(arrays[\u001b[38;5;241m0\u001b[39m])\n\u001b[1;32m-> 2785\u001b[0m n_train, n_test \u001b[38;5;241m=\u001b[39m \u001b[43m_validate_shuffle_split\u001b[49m\u001b[43m(\u001b[49m\n\u001b[0;32m   2786\u001b[0m \u001b[43m    \u001b[49m\u001b[43mn_samples\u001b[49m\u001b[43m,\u001b[49m\u001b[43m \u001b[49m\u001b[43mtest_size\u001b[49m\u001b[43m,\u001b[49m\u001b[43m \u001b[49m\u001b[43mtrain_size\u001b[49m\u001b[43m,\u001b[49m\u001b[43m \u001b[49m\u001b[43mdefault_test_size\u001b[49m\u001b[38;5;241;43m=\u001b[39;49m\u001b[38;5;241;43m0.25\u001b[39;49m\n\u001b[0;32m   2787\u001b[0m \u001b[43m\u001b[49m\u001b[43m)\u001b[49m\n\u001b[0;32m   2789\u001b[0m \u001b[38;5;28;01mif\u001b[39;00m shuffle \u001b[38;5;129;01mis\u001b[39;00m \u001b[38;5;28;01mFalse\u001b[39;00m:\n\u001b[0;32m   2790\u001b[0m     \u001b[38;5;28;01mif\u001b[39;00m stratify \u001b[38;5;129;01mis\u001b[39;00m \u001b[38;5;129;01mnot\u001b[39;00m \u001b[38;5;28;01mNone\u001b[39;00m:\n",
      "File \u001b[1;32mc:\\Users\\igali\\AppData\\Local\\Programs\\Python\\Python39\\lib\\site-packages\\sklearn\\model_selection\\_split.py:2415\u001b[0m, in \u001b[0;36m_validate_shuffle_split\u001b[1;34m(n_samples, test_size, train_size, default_test_size)\u001b[0m\n\u001b[0;32m   2412\u001b[0m n_train, n_test \u001b[38;5;241m=\u001b[39m \u001b[38;5;28mint\u001b[39m(n_train), \u001b[38;5;28mint\u001b[39m(n_test)\n\u001b[0;32m   2414\u001b[0m \u001b[38;5;28;01mif\u001b[39;00m n_train \u001b[38;5;241m==\u001b[39m \u001b[38;5;241m0\u001b[39m:\n\u001b[1;32m-> 2415\u001b[0m     \u001b[38;5;28;01mraise\u001b[39;00m \u001b[38;5;167;01mValueError\u001b[39;00m(\n\u001b[0;32m   2416\u001b[0m         \u001b[38;5;124m\"\u001b[39m\u001b[38;5;124mWith n_samples=\u001b[39m\u001b[38;5;132;01m{}\u001b[39;00m\u001b[38;5;124m, test_size=\u001b[39m\u001b[38;5;132;01m{}\u001b[39;00m\u001b[38;5;124m and train_size=\u001b[39m\u001b[38;5;132;01m{}\u001b[39;00m\u001b[38;5;124m, the \u001b[39m\u001b[38;5;124m\"\u001b[39m\n\u001b[0;32m   2417\u001b[0m         \u001b[38;5;124m\"\u001b[39m\u001b[38;5;124mresulting train set will be empty. Adjust any of the \u001b[39m\u001b[38;5;124m\"\u001b[39m\n\u001b[0;32m   2418\u001b[0m         \u001b[38;5;124m\"\u001b[39m\u001b[38;5;124maforementioned parameters.\u001b[39m\u001b[38;5;124m\"\u001b[39m\u001b[38;5;241m.\u001b[39mformat(n_samples, test_size, train_size)\n\u001b[0;32m   2419\u001b[0m     )\n\u001b[0;32m   2421\u001b[0m \u001b[38;5;28;01mreturn\u001b[39;00m n_train, n_test\n",
      "\u001b[1;31mValueError\u001b[0m: With n_samples=0, test_size=0.3 and train_size=None, the resulting train set will be empty. Adjust any of the aforementioned parameters."
     ]
    }
   ],
   "source": [
    "labels = image_labels_df['Label']\n",
    "\n",
    "X_train, X_temp = train_test_split(image_labels_df, test_size=0.3, stratify=labels, random_state = 42)\n",
    "\n",
    "label_test_val = X_temp['Label']\n",
    "\n",
    "X_test, X_val = train_test_split(X_temp, test_size=0.5, stratify=label_test_val, random_state = 42)\n",
    "\n",
    "print('The shape of train data',X_train.shape)\n",
    "print('The shape of test data',X_test.shape)\n",
    "print('The shape of validation data',X_val.shape)"
   ]
  },
  {
   "cell_type": "code",
   "execution_count": null,
   "metadata": {},
   "outputs": [],
   "source": [
    "# Convert Labels to Numeric\n",
    "label_mapping = {'M': 1, 'B': 0}\n",
    "X_train['Label'] = X_train['Label'].map(label_mapping)\n",
    "X_val['Label'] = X_val['Label'].map(label_mapping)\n",
    "X_test['Label'] = X_test['Label'].map(label_mapping)"
   ]
  },
  {
   "cell_type": "markdown",
   "metadata": {},
   "source": [
    "<h3> Distribution of train, test and validation Datasets </h3>"
   ]
  },
  {
   "cell_type": "code",
   "execution_count": null,
   "metadata": {},
   "outputs": [],
   "source": [
    "import numpy as np\n",
    "import matplotlib.pyplot as plt\n",
    "import seaborn as sns"
   ]
  },
  {
   "cell_type": "code",
   "execution_count": null,
   "metadata": {},
   "outputs": [
    {
     "data": {
      "image/png": "[encoded data removed]",
      "text/plain": [
       "<Figure size 4000x1200 with 3 Axes>"
      ]
     },
     "metadata": {
      "needs_background": "light"
     },
     "output_type": "display_data"
    }
   ],
   "source": [
    "labels = ['M','B']\n",
    "\n",
    "#count unique label appearances\n",
    "label1,count1 = np.unique(X_train.Label,return_counts=True)\n",
    "label2,count2 = np.unique(X_val.Label,return_counts=True)\n",
    "label3,count3 = np.unique(X_test.Label,return_counts=True)\n",
    "\n",
    "# DataFrames with 1 column for count of labels, label names in index\n",
    "uni1 = pd.DataFrame(data=count1,index=labels,columns=['Count1'])\n",
    "uni2 = pd.DataFrame(data=count2,index=labels,columns=['Count2'])\n",
    "uni3 = pd.DataFrame(data=count3,index=labels,columns=['Count3'])\n",
    "\n",
    "plt.figure(figsize=(20,6),dpi=200)\n",
    "sns.set_style('darkgrid')\n",
    "\n",
    "plt.subplot(131)\n",
    "sns.barplot(data=uni1,x=uni1.index, y='Count1', hue=uni1.index, palette='icefire', legend=False).set_title('Class distribution in Training set',fontsize=15)\n",
    "plt.xlabel('Labels',fontsize=12)\n",
    "plt.ylabel('Count',fontsize=12)\n",
    "\n",
    "plt.subplot(132)\n",
    "sns.barplot(data=uni2,x=uni2.index, y='Count2', hue=uni1.index, palette='icefire', legend=False).set_title('Class distribution in validation set',fontsize=15)\n",
    "plt.xlabel('Labels',fontsize=12)\n",
    "plt.ylabel('Count',fontsize=12)\n",
    "\n",
    "\n",
    "plt.subplot(133)\n",
    "sns.barplot(data=uni3,x=uni3.index, y='Count3', hue=uni1.index, palette='icefire', legend=False).set_title('Class distribution in Testing set',fontsize=15)\n",
    "plt.xlabel('Labels',fontsize=12)\n",
    "plt.ylabel('Count',fontsize=12)\n",
    "\n",
    "plt.show()"
   ]
  },
  {
   "cell_type": "markdown",
   "metadata": {},
   "source": [
    "<h2> Deep Learning based Classifiers </h2>"
   ]
  },
  {
   "cell_type": "code",
   "execution_count": null,
   "metadata": {},
   "outputs": [],
   "source": [
    "import tensorflow as tf\n",
    "from tensorflow.keras import datasets, layers, models\n",
    "from tensorflow.keras.metrics import Precision, Recall"
   ]
  },
  {
   "cell_type": "markdown",
   "metadata": {},
   "source": [
    "<h3> CNN </h3>"
   ]
  },
  {
   "cell_type": "code",
   "execution_count": null,
   "metadata": {},
   "outputs": [],
   "source": [
    "# Load and preprocess data\n",
    "IMG_SIZE = (32, 32)  # Adjust\n",
    "\n",
    "def load_and_preprocess_image(filepath):\n",
    "    image = tf.io.read_file(filepath)\n",
    "    image = tf.image.decode_png(image, channels=3)\n",
    "    image = tf.image.resize(image, IMG_SIZE)\n",
    "    image = image / 255.0 # Normalize pixel values to [0, 1]\n",
    "    return image"
   ]
  },
  {
   "cell_type": "code",
   "execution_count": null,
   "metadata": {},
   "outputs": [],
   "source": [
    "base_dir = \"/Users/renkasik/Desktop/Intro To Focus Areas/data/BreaKHis_v1\""
   ]
  },
  {
   "cell_type": "code",
   "execution_count": null,
   "metadata": {},
   "outputs": [],
   "source": [
    "# Convert DataFrame columns to lists\n",
    "train_filepaths = X_train['FilePath'].tolist()\n",
    "train_labels = X_train['Label'].tolist()\n",
    "\n",
    "val_filepaths = X_val['FilePath'].tolist()\n",
    "val_labels = X_val['Label'].tolist()\n",
    "\n",
    "test_filepaths = X_test['FilePath'].tolist()\n",
    "test_labels = X_test['Label'].tolist()\n",
    "\n",
    "# load images and labels as TensorFlow Datasets\n",
    "def create_dataset(filepaths, labels):    \n",
    "    # Create TensorFlow datasets from paths and labels\n",
    "    filepaths_ds = tf.data.Dataset.from_tensor_slices(filepaths)\n",
    "    images_ds = filepaths_ds.map(load_and_preprocess_image, num_parallel_calls=tf.data.experimental.AUTOTUNE)\n",
    "    labels_ds = tf.data.Dataset.from_tensor_slices(labels)\n",
    "    \n",
    "    # Zip the datasets together\n",
    "    return tf.data.Dataset.zip((images_ds, labels_ds))"
   ]
  },
  {
   "cell_type": "markdown",
   "metadata": {},
   "source": [
    "Data Augmentation"
   ]
  },
  {
   "cell_type": "code",
   "execution_count": null,
   "metadata": {},
   "outputs": [],
   "source": [
    "# Define the augmentation layer\n",
    "data_augmentation = tf.keras.Sequential([\n",
    "    tf.keras.layers.RandomFlip(\"horizontal\"),   # Randomly flip images horizontally\n",
    "    tf.keras.layers.RandomRotation(0.2),        # Rotate images by up to 20%\n",
    "    tf.keras.layers.RandomZoom(0.2),            # Zoom up to 20%\n",
    "])\n",
    "\n",
    "def augment(image, label):\n",
    "    image = data_augmentation(image)\n",
    "    return image, label"
   ]
  },
  {
   "cell_type": "code",
   "execution_count": null,
   "metadata": {},
   "outputs": [],
   "source": [
    "i = 0\n",
    "for filepath in train_filepaths:\n",
    "    if not os.path.exists(filepath):\n",
    "        print(f\"File not found: {filepath}\")"
   ]
  },
  {
   "cell_type": "code",
   "execution_count": null,
   "metadata": {},
   "outputs": [
    {
     "name": "stderr",
     "output_type": "stream",
     "text": [
      "2024-11-03 22:46:26.680630: I tensorflow/core/platform/cpu_feature_guard.cc:193] This TensorFlow binary is optimized with oneAPI Deep Neural Network Library (oneDNN) to use the following CPU instructions in performance-critical operations:  SSE4.1 SSE4.2\n",
      "To enable them in other operations, rebuild TensorFlow with the appropriate compiler flags.\n"
     ]
    }
   ],
   "source": [
    "BATCH_SIZE = 32  # Set the batch size according to memory capacity\n",
    "\n",
    "# Shuffle, batch, and prefetch the datasets\n",
    "train_ds = (create_dataset(train_filepaths, train_labels)\n",
    "            .shuffle(buffer_size=len(train_filepaths))\n",
    "            .map(augment, num_parallel_calls=tf.data.experimental.AUTOTUNE)\n",
    "            .batch(BATCH_SIZE)\n",
    "            .prefetch(tf.data.experimental.AUTOTUNE))\n",
    "val_ds = create_dataset(val_filepaths, val_labels).batch(BATCH_SIZE).prefetch(tf.data.experimental.AUTOTUNE)\n",
    "test_ds = create_dataset(test_filepaths, test_labels).batch(BATCH_SIZE).prefetch(tf.data.experimental.AUTOTUNE)"
   ]
  },
  {
   "cell_type": "code",
   "execution_count": null,
   "metadata": {},
   "outputs": [],
   "source": [
    "model = models.Sequential([\n",
    "    layers.Conv2D(32, (3, 3), activation='relu', input_shape=(32, 32, 3)),  # Adjust input_shape to image dimensions, (3,3) is filter size, 3 is RGB color channels\n",
    "    layers.MaxPooling2D((2, 2)), # reduces each dimension (height and width) by half, summarizing the main features\n",
    "    layers.Conv2D(64, (3, 3), activation='relu'), # 64 filters\n",
    "    layers.MaxPooling2D((2, 2)),\n",
    "    layers.Conv2D(64, (3, 3), activation='relu'),\n",
    "    layers.Flatten(),\n",
    "    layers.Dense(64, activation='relu'), # number of neurons in the layer\n",
    "    layers.Dense(1, activation='sigmoid')\n",
    "])"
   ]
  },
  {
   "cell_type": "code",
   "execution_count": null,
   "metadata": {},
   "outputs": [],
   "source": [
    "model.compile(optimizer='adam',\n",
    "              loss='binary_crossentropy',\n",
    "              metrics=['accuracy', Precision(), Recall()])"
   ]
  },
  {
   "cell_type": "code",
   "execution_count": null,
   "metadata": {},
   "outputs": [
    {
     "name": "stdout",
     "output_type": "stream",
     "text": [
      "Epoch 1/10\n",
      "46/46 [==============================] - 4s 24ms/step - loss: 0.6124 - accuracy: 0.6820 - precision: 0.6903 - recall: 0.9781 - val_loss: 0.5315 - val_accuracy: 0.6901 - val_precision: 0.6901 - val_recall: 1.0000\n",
      "Epoch 2/10\n",
      "46/46 [==============================] - 3s 19ms/step - loss: 0.5503 - accuracy: 0.6909 - precision: 0.7170 - recall: 0.9124 - val_loss: 0.4987 - val_accuracy: 0.7061 - val_precision: 0.7013 - val_recall: 1.0000\n",
      "Epoch 3/10\n",
      "46/46 [==============================] - 3s 19ms/step - loss: 0.5049 - accuracy: 0.7706 - precision: 0.7846 - recall: 0.9204 - val_loss: 0.4445 - val_accuracy: 0.8147 - val_precision: 0.8559 - val_recall: 0.8796\n",
      "Epoch 4/10\n",
      "46/46 [==============================] - 3s 21ms/step - loss: 0.4855 - accuracy: 0.8001 - precision: 0.8121 - recall: 0.9244 - val_loss: 0.4489 - val_accuracy: 0.8019 - val_precision: 0.7873 - val_recall: 0.9769\n",
      "Epoch 5/10\n",
      "46/46 [==============================] - 3s 20ms/step - loss: 0.4713 - accuracy: 0.7919 - precision: 0.8005 - recall: 0.9303 - val_loss: 0.4312 - val_accuracy: 0.8211 - val_precision: 0.8333 - val_recall: 0.9259\n",
      "Epoch 6/10\n",
      "46/46 [==============================] - 3s 20ms/step - loss: 0.4534 - accuracy: 0.8132 - precision: 0.8258 - recall: 0.9244 - val_loss: 0.4296 - val_accuracy: 0.8147 - val_precision: 0.8347 - val_recall: 0.9120\n",
      "Epoch 7/10\n",
      "46/46 [==============================] - 3s 20ms/step - loss: 0.4608 - accuracy: 0.8063 - precision: 0.8254 - recall: 0.9124 - val_loss: 0.4814 - val_accuracy: 0.7955 - val_precision: 0.8585 - val_recall: 0.8426\n",
      "Epoch 8/10\n",
      "46/46 [==============================] - 3s 20ms/step - loss: 0.4585 - accuracy: 0.7995 - precision: 0.8197 - recall: 0.9095 - val_loss: 0.4436 - val_accuracy: 0.8179 - val_precision: 0.8502 - val_recall: 0.8935\n",
      "Epoch 9/10\n",
      "46/46 [==============================] - 3s 19ms/step - loss: 0.4548 - accuracy: 0.8111 - precision: 0.8247 - recall: 0.9224 - val_loss: 0.4214 - val_accuracy: 0.8179 - val_precision: 0.8472 - val_recall: 0.8981\n",
      "Epoch 10/10\n",
      "46/46 [==============================] - 3s 20ms/step - loss: 0.4738 - accuracy: 0.7946 - precision: 0.8209 - recall: 0.8985 - val_loss: 0.4576 - val_accuracy: 0.7923 - val_precision: 0.7745 - val_recall: 0.9861\n"
     ]
    }
   ],
   "source": [
    "history = model.fit(train_ds,\n",
    "                    validation_data=val_ds,\n",
    "                    epochs=10)"
   ]
  },
  {
   "cell_type": "code",
   "execution_count": null,
   "metadata": {},
   "outputs": [
    {
     "name": "stdout",
     "output_type": "stream",
     "text": [
      "10/10 [==============================] - 1s 47ms/step - loss: 0.4197 - accuracy: 0.8301 - precision: 0.8123 - recall: 0.9815\n",
      "Loss: 0.4197402894496918\n",
      "Accuracy: 0.8301281929016113\n",
      "Precision: 0.8122605085372925\n",
      "Recall(Sensitivity): 0.9814814925193787\n"
     ]
    }
   ],
   "source": [
    "results = model.evaluate(test_ds)\n",
    "metrics = ['Loss', 'Accuracy', 'Precision', 'Recall(Sensitivity)']\n",
    "for i in range(len(results)):\n",
    "    print(metrics[i] + ': ' + str(results[i]))"
   ]
  },
  {
   "cell_type": "markdown",
   "metadata": {},
   "source": [
    "<h3>Fully connected NN with one hidden layer </h3>"
   ]
  },
  {
   "cell_type": "code",
   "execution_count": null,
   "metadata": {},
   "outputs": [],
   "source": [
    "model_2 = models.Sequential([\n",
    "    layers.Flatten(input_shape=(32, 32, 3)),  # fully connected -> flatten from 2D to 1D\n",
    "    layers.Dense(64, activation='relu'),  # hidden layer -> learning features from the input data\n",
    "    layers.Dense(1, activation='sigmoid') \n",
    "])"
   ]
  },
  {
   "cell_type": "code",
   "execution_count": null,
   "metadata": {},
   "outputs": [],
   "source": [
    "model_2.compile(optimizer='adam',\n",
    "              loss='binary_crossentropy',\n",
    "              metrics=['accuracy', Precision(), Recall()])"
   ]
  },
  {
   "cell_type": "code",
   "execution_count": null,
   "metadata": {},
   "outputs": [
    {
     "name": "stdout",
     "output_type": "stream",
     "text": [
      "Epoch 1/10\n",
      "46/46 [==============================] - 3s 11ms/step - loss: 0.6636 - accuracy: 0.6882 - precision_1: 0.7181 - recall_1: 0.9025 - val_loss: 0.5449 - val_accuracy: 0.6901 - val_precision_1: 0.6901 - val_recall_1: 1.0000\n",
      "Epoch 2/10\n",
      "46/46 [==============================] - 2s 11ms/step - loss: 0.5282 - accuracy: 0.7521 - precision_1: 0.7683 - recall_1: 0.9174 - val_loss: 0.5204 - val_accuracy: 0.6965 - val_precision_1: 0.6945 - val_recall_1: 1.0000\n",
      "Epoch 3/10\n",
      "46/46 [==============================] - 2s 11ms/step - loss: 0.5315 - accuracy: 0.7376 - precision_1: 0.7754 - recall_1: 0.8726 - val_loss: 0.5490 - val_accuracy: 0.6901 - val_precision_1: 0.6901 - val_recall_1: 1.0000\n",
      "Epoch 4/10\n",
      "46/46 [==============================] - 2s 11ms/step - loss: 0.5168 - accuracy: 0.7754 - precision_1: 0.7995 - recall_1: 0.9005 - val_loss: 0.5154 - val_accuracy: 0.7157 - val_precision_1: 0.7096 - val_recall_1: 0.9954\n",
      "Epoch 5/10\n",
      "46/46 [==============================] - 2s 11ms/step - loss: 0.5029 - accuracy: 0.7665 - precision_1: 0.7919 - recall_1: 0.8975 - val_loss: 0.4755 - val_accuracy: 0.7891 - val_precision_1: 0.7930 - val_recall_1: 0.9398\n",
      "Epoch 6/10\n",
      "46/46 [==============================] - 2s 11ms/step - loss: 0.4836 - accuracy: 0.7946 - precision_1: 0.8124 - recall_1: 0.9134 - val_loss: 0.4803 - val_accuracy: 0.7923 - val_precision_1: 0.7786 - val_recall_1: 0.9769\n",
      "Epoch 7/10\n",
      "46/46 [==============================] - 2s 12ms/step - loss: 0.5042 - accuracy: 0.7713 - precision_1: 0.7963 - recall_1: 0.8985 - val_loss: 0.7030 - val_accuracy: 0.6198 - val_precision_1: 0.9292 - val_recall_1: 0.4861\n",
      "Epoch 8/10\n",
      "46/46 [==============================] - 2s 11ms/step - loss: 0.5257 - accuracy: 0.7438 - precision_1: 0.7915 - recall_1: 0.8537 - val_loss: 0.4940 - val_accuracy: 0.7764 - val_precision_1: 0.7589 - val_recall_1: 0.9907\n",
      "Epoch 9/10\n",
      "46/46 [==============================] - 2s 11ms/step - loss: 0.4995 - accuracy: 0.7734 - precision_1: 0.7984 - recall_1: 0.8985 - val_loss: 0.6085 - val_accuracy: 0.6486 - val_precision_1: 0.9077 - val_recall_1: 0.5463\n",
      "Epoch 10/10\n",
      "46/46 [==============================] - 2s 11ms/step - loss: 0.5183 - accuracy: 0.7486 - precision_1: 0.7939 - recall_1: 0.8587 - val_loss: 0.4783 - val_accuracy: 0.7891 - val_precision_1: 0.7820 - val_recall_1: 0.9630\n"
     ]
    }
   ],
   "source": [
    "history_2 = model_2.fit(train_ds,\n",
    "                    validation_data=val_ds,\n",
    "                    epochs=10)"
   ]
  },
  {
   "cell_type": "code",
   "execution_count": null,
   "metadata": {},
   "outputs": [
    {
     "name": "stdout",
     "output_type": "stream",
     "text": [
      "10/10 [==============================] - 0s 43ms/step - loss: 0.4393 - accuracy: 0.8429 - precision_1: 0.8465 - recall_1: 0.9444\n",
      "Loss: 0.4392950236797333\n",
      "Accuracy: 0.8429487347602844\n",
      "Precision: 0.8464730381965637\n",
      "Recall(Sensitivity): 0.9444444179534912\n"
     ]
    }
   ],
   "source": [
    "results_2 = model_2.evaluate(test_ds)\n",
    "metrics = ['Loss', 'Accuracy', 'Precision', 'Recall(Sensitivity)']\n",
    "for i in range(len(results_2)):\n",
    "    print(metrics[i] + ': ' + str(results_2[i]))"
   ]
  },
  {
   "cell_type": "markdown",
   "metadata": {},
   "source": [
    "<h3>ResNet-50 </h3>"
   ]
  },
  {
   "cell_type": "code",
   "execution_count": null,
   "metadata": {},
   "outputs": [],
   "source": [
    "from tensorflow.keras.applications import ResNet50"
   ]
  },
  {
   "cell_type": "code",
   "execution_count": null,
   "metadata": {},
   "outputs": [],
   "source": [
    "IMG_SIZE_resnet = (224, 224) #ResNet50 input size requirement\n",
    "\n",
    "def load_and_preprocess_image_resnet(filepath):\n",
    "    image = tf.io.read_file(filepath)\n",
    "    image = tf.image.decode_png(image, channels=3)\n",
    "    image = tf.image.resize(image, IMG_SIZE_resnet)\n",
    "    image = tf.keras.applications.resnet50.preprocess_input(image) #ResNet preprocessing\n",
    "    return image"
   ]
  },
  {
   "cell_type": "code",
   "execution_count": null,
   "metadata": {},
   "outputs": [],
   "source": [
    "def create_dataset_resnet(filepaths, labels):    \n",
    "    # Create TensorFlow datasets from paths and labels for ResNet\n",
    "    filepaths_ds = tf.data.Dataset.from_tensor_slices(filepaths)\n",
    "    images_ds = filepaths_ds.map(load_and_preprocess_image_resnet, num_parallel_calls=tf.data.experimental.AUTOTUNE)\n",
    "    labels_ds = tf.data.Dataset.from_tensor_slices(labels)\n",
    "\n",
    "    # Zip the datasets together\n",
    "    return tf.data.Dataset.zip((images_ds, labels_ds))"
   ]
  },
  {
   "cell_type": "code",
   "execution_count": null,
   "metadata": {},
   "outputs": [],
   "source": [
    "# Shuffle, batch, and prefetch the datasets\n",
    "train_ds_resnet = (create_dataset_resnet(train_filepaths, train_labels)\n",
    "                   .shuffle(buffer_size=len(train_filepaths))\n",
    "                   .map(augment, num_parallel_calls=tf.data.experimental.AUTOTUNE)\n",
    "                   .batch(BATCH_SIZE)\n",
    "                   .prefetch(tf.data.experimental.AUTOTUNE))\n",
    "val_ds_resnet = create_dataset_resnet(val_filepaths, val_labels).batch(BATCH_SIZE).prefetch(tf.data.experimental.AUTOTUNE)\n",
    "test_ds_resnet = create_dataset_resnet(test_filepaths, test_labels).batch(BATCH_SIZE).prefetch(tf.data.experimental.AUTOTUNE)"
   ]
  },
  {
   "cell_type": "code",
   "execution_count": null,
   "metadata": {},
   "outputs": [],
   "source": [
    "base_model = ResNet50(weights='imagenet', include_top=False, input_shape=(224, 224, 3)) #without the top classification layer to add custom classification layers later\n",
    "base_model.trainable = False  #freeze base model to avoid fine tuning"
   ]
  },
  {
   "cell_type": "code",
   "execution_count": null,
   "metadata": {},
   "outputs": [],
   "source": [
    "model_3 = models.Sequential([\n",
    "    base_model,\n",
    "    layers.GlobalAveragePooling2D(), #reduce output to single vector\n",
    "    layers.Dense(1, activation='sigmoid')  \n",
    "])"
   ]
  },
  {
   "cell_type": "code",
   "execution_count": null,
   "metadata": {},
   "outputs": [],
   "source": [
    "model_3.compile(optimizer='adam',\n",
    "              loss='binary_crossentropy',\n",
    "              metrics=['accuracy', Precision(), Recall()])"
   ]
  },
  {
   "cell_type": "code",
   "execution_count": null,
   "metadata": {},
   "outputs": [
    {
     "name": "stdout",
     "output_type": "stream",
     "text": [
      "Epoch 1/10\n",
      "46/46 [==============================] - 84s 2s/step - loss: 0.4806 - accuracy: 0.7788 - precision_2: 0.7952 - recall_2: 0.9154 - val_loss: 0.3903 - val_accuracy: 0.8466 - val_precision_2: 0.8750 - val_recall_2: 0.9074\n",
      "Epoch 2/10\n",
      "46/46 [==============================] - 81s 2s/step - loss: 0.3158 - accuracy: 0.8695 - precision_2: 0.8812 - recall_2: 0.9373 - val_loss: 0.3241 - val_accuracy: 0.8626 - val_precision_2: 0.9061 - val_recall_2: 0.8935\n",
      "Epoch 3/10\n",
      "46/46 [==============================] - 83s 2s/step - loss: 0.2637 - accuracy: 0.9038 - precision_2: 0.9139 - recall_2: 0.9502 - val_loss: 0.2798 - val_accuracy: 0.9137 - val_precision_2: 0.9163 - val_recall_2: 0.9630\n",
      "Epoch 4/10\n",
      "46/46 [==============================] - 101s 2s/step - loss: 0.2247 - accuracy: 0.9196 - precision_2: 0.9237 - recall_2: 0.9632 - val_loss: 0.2682 - val_accuracy: 0.9042 - val_precision_2: 0.9429 - val_recall_2: 0.9167\n",
      "Epoch 5/10\n",
      "46/46 [==============================] - 99s 2s/step - loss: 0.2050 - accuracy: 0.9265 - precision_2: 0.9309 - recall_2: 0.9652 - val_loss: 0.2489 - val_accuracy: 0.9201 - val_precision_2: 0.9484 - val_recall_2: 0.9352\n",
      "Epoch 6/10\n",
      "46/46 [==============================] - 102s 2s/step - loss: 0.1830 - accuracy: 0.9423 - precision_2: 0.9484 - recall_2: 0.9692 - val_loss: 0.2314 - val_accuracy: 0.9361 - val_precision_2: 0.9537 - val_recall_2: 0.9537\n",
      "Epoch 7/10\n",
      "46/46 [==============================] - 98s 2s/step - loss: 0.1705 - accuracy: 0.9505 - precision_2: 0.9542 - recall_2: 0.9751 - val_loss: 0.2205 - val_accuracy: 0.9233 - val_precision_2: 0.9211 - val_recall_2: 0.9722\n",
      "Epoch 8/10\n",
      "46/46 [==============================] - 99s 2s/step - loss: 0.1598 - accuracy: 0.9533 - precision_2: 0.9607 - recall_2: 0.9721 - val_loss: 0.2214 - val_accuracy: 0.9265 - val_precision_2: 0.9573 - val_recall_2: 0.9352\n",
      "Epoch 9/10\n",
      "46/46 [==============================] - 99s 2s/step - loss: 0.1480 - accuracy: 0.9588 - precision_2: 0.9601 - recall_2: 0.9811 - val_loss: 0.2043 - val_accuracy: 0.9457 - val_precision_2: 0.9543 - val_recall_2: 0.9676\n",
      "Epoch 10/10\n",
      "46/46 [==============================] - 96s 2s/step - loss: 0.1374 - accuracy: 0.9602 - precision_2: 0.9638 - recall_2: 0.9791 - val_loss: 0.2015 - val_accuracy: 0.9425 - val_precision_2: 0.9541 - val_recall_2: 0.9630\n"
     ]
    }
   ],
   "source": [
    "history_3 = model_3.fit(train_ds_resnet,\n",
    "                    validation_data=val_ds_resnet,\n",
    "                    epochs=10)"
   ]
  },
  {
   "cell_type": "code",
   "execution_count": null,
   "metadata": {},
   "outputs": [
    {
     "name": "stdout",
     "output_type": "stream",
     "text": [
      "Epoch 1/5\n",
      "46/46 [==============================] - 288s 6s/step - loss: 0.5493 - accuracy: 0.7548 - precision_4: 0.9589 - recall_4: 0.6736 - val_loss: 0.3049 - val_accuracy: 0.8722 - val_precision_4: 0.8465 - val_recall_4: 0.9954\n",
      "Epoch 2/5\n",
      "46/46 [==============================] - 281s 6s/step - loss: 0.1458 - accuracy: 0.9602 - precision_4: 0.9876 - recall_4: 0.9542 - val_loss: 0.2671 - val_accuracy: 0.8882 - val_precision_4: 0.8664 - val_recall_4: 0.9907\n",
      "Epoch 3/5\n",
      "46/46 [==============================] - 285s 6s/step - loss: 0.0737 - accuracy: 0.9890 - precision_4: 0.9920 - recall_4: 0.9920 - val_loss: 0.2373 - val_accuracy: 0.9042 - val_precision_4: 0.8875 - val_recall_4: 0.9861\n",
      "Epoch 4/5\n",
      "46/46 [==============================] - 284s 6s/step - loss: 0.0433 - accuracy: 0.9973 - precision_4: 0.9970 - recall_4: 0.9990 - val_loss: 0.1919 - val_accuracy: 0.9201 - val_precision_4: 0.9064 - val_recall_4: 0.9861\n",
      "Epoch 5/5\n",
      "46/46 [==============================] - 285s 6s/step - loss: 0.0298 - accuracy: 0.9993 - precision_4: 0.9990 - recall_4: 1.0000 - val_loss: 0.1611 - val_accuracy: 0.9361 - val_precision_4: 0.9261 - val_recall_4: 0.9861\n"
     ]
    }
   ],
   "source": [
    "#fine tuning\n",
    "base_model.trainable = True\n",
    "model_3.compile(optimizer=tf.keras.optimizers.Adam(1e-5),  #lower learning rate\n",
    "              loss='binary_crossentropy',\n",
    "              metrics=['accuracy', Precision(), Recall()])\n",
    "\n",
    "history_3 = model_3.fit(train_ds_resnet,\n",
    "                    validation_data=val_ds_resnet,\n",
    "                    epochs=5)"
   ]
  },
  {
   "cell_type": "code",
   "execution_count": null,
   "metadata": {},
   "outputs": [
    {
     "name": "stdout",
     "output_type": "stream",
     "text": [
      "10/10 [==============================] - 14s 1s/step - loss: 0.1974 - accuracy: 0.9199 - precision_4: 0.9099 - recall_4: 0.9815\n",
      "Loss: 0.19740530848503113\n",
      "Accuracy: 0.9198718070983887\n",
      "Precision: 0.9098712205886841\n",
      "Recall(Sensitivity): 0.9814814925193787\n"
     ]
    }
   ],
   "source": [
    "results_3 = model_3.evaluate(test_ds_resnet)\n",
    "metrics = ['Loss', 'Accuracy', 'Precision', 'Recall(Sensitivity)']\n",
    "for i in range(len(results_3)):\n",
    "    print(metrics[i] + ': ' + str(results_3[i]))"
   ]
  },
  {
   "cell_type": "markdown",
   "metadata": {},
   "source": [
    "<h3>Plots</h3>"
   ]
  },
  {
   "cell_type": "code",
   "execution_count": null,
   "metadata": {},
   "outputs": [
    {
     "data": {
      "text/html": [
       "<div>\n",
       "<style scoped>\n",
       "    .dataframe tbody tr th:only-of-type {\n",
       "        vertical-align: middle;\n",
       "    }\n",
       "\n",
       "    .dataframe tbody tr th {\n",
       "        vertical-align: top;\n",
       "    }\n",
       "\n",
       "    .dataframe thead th {\n",
       "        text-align: right;\n",
       "    }\n",
       "</style>\n",
       "<table border=\"1\" class=\"dataframe\">\n",
       "  <thead>\n",
       "    <tr style=\"text-align: right;\">\n",
       "      <th></th>\n",
       "      <th>Loss</th>\n",
       "      <th>Accuracy</th>\n",
       "      <th>Precision</th>\n",
       "      <th>Recall(Sensitivity)</th>\n",
       "    </tr>\n",
       "  </thead>\n",
       "  <tbody>\n",
       "    <tr>\n",
       "      <th>CNN</th>\n",
       "      <td>0.419740</td>\n",
       "      <td>0.830128</td>\n",
       "      <td>0.812261</td>\n",
       "      <td>0.981481</td>\n",
       "    </tr>\n",
       "    <tr>\n",
       "      <th>Shallow NN</th>\n",
       "      <td>0.439295</td>\n",
       "      <td>0.842949</td>\n",
       "      <td>0.846473</td>\n",
       "      <td>0.944444</td>\n",
       "    </tr>\n",
       "    <tr>\n",
       "      <th>ResNet50</th>\n",
       "      <td>0.197405</td>\n",
       "      <td>0.919872</td>\n",
       "      <td>0.909871</td>\n",
       "      <td>0.981481</td>\n",
       "    </tr>\n",
       "  </tbody>\n",
       "</table>\n",
       "</div>"
      ],
      "text/plain": [
       "                Loss  Accuracy  Precision  Recall(Sensitivity)\n",
       "CNN         0.419740  0.830128   0.812261             0.981481\n",
       "Shallow NN  0.439295  0.842949   0.846473             0.944444\n",
       "ResNet50    0.197405  0.919872   0.909871             0.981481"
      ]
     },
     "execution_count": 53,
     "metadata": {},
     "output_type": "execute_result"
    }
   ],
   "source": [
    "results = np.array(results)\n",
    "results_2 = np.array(results_2)\n",
    "results_3 = np.array(results_3)\n",
    "results_df = pd.DataFrame({'CNN': results, 'Shallow NN': results_2, 'ResNet50': results_3})\n",
    "\n",
    "results_df = results_df.T\n",
    "\n",
    "results_df.columns = ['Loss', 'Accuracy', 'Precision', 'Recall(Sensitivity)']\n",
    "results_df"
   ]
  },
  {
   "cell_type": "code",
   "execution_count": null,
   "metadata": {},
   "outputs": [
    {
     "data": {
      "text/plain": [
       "<Figure size 1440x1080 with 0 Axes>"
      ]
     },
     "metadata": {},
     "output_type": "display_data"
    },
    {
     "data": {
      "image/png": "[encoded data removed]",
      "text/plain": [
       "<Figure size 1080x864 with 1 Axes>"
      ]
     },
     "metadata": {},
     "output_type": "display_data"
    }
   ],
   "source": [
    "\n",
    "plt.figure(figsize=(20, 15))\n",
    "\n",
    "results_df.plot(kind='bar', rot=0, figsize=(15,12))\n",
    "plt.title('Model Performance Comparison')\n",
    "plt.ylabel('Score')\n",
    "plt.xlabel('Model')  \n",
    "\n",
    "# Show the plot\n",
    "plt.legend(title='Metric')\n",
    "plt.show()"
   ]
  },
  {
   "cell_type": "code",
   "execution_count": null,
   "metadata": {},
   "outputs": [],
   "source": [
    "from sklearn.metrics import roc_curve, auc"
   ]
  },
  {
   "cell_type": "code",
   "execution_count": null,
   "metadata": {},
   "outputs": [
    {
     "name": "stdout",
     "output_type": "stream",
     "text": [
      "10/10 [==============================] - 0s 5ms/step\n",
      "10/10 [==============================] - 0s 931us/step\n",
      "10/10 [==============================] - 15s 1s/step\n"
     ]
    }
   ],
   "source": [
    "X_test_images = np.array([load_and_preprocess_image(fp) for fp in X_test['FilePath']])\n",
    "X_test_images_resnet = np.array([load_and_preprocess_image_resnet(fp) for fp in X_test['FilePath']])\n",
    "\n",
    "probabilities_CNN = model.predict(X_test_images)\n",
    "probabilities_ShallowNN = model_2.predict(X_test_images)\n",
    "probabilities_ResNet50 = model_3.predict(X_test_images_resnet)\n"
   ]
  },
  {
   "cell_type": "code",
   "execution_count": null,
   "metadata": {},
   "outputs": [],
   "source": [
    "fpr_CNN, tpr_CNN, _ = roc_curve(test_labels, probabilities_CNN)\n",
    "fpr_ShallowNN, tpr_ShallowNN, _ = roc_curve(test_labels, probabilities_ShallowNN)\n",
    "fpr_ResNet50, tpr_ResNet50, _ = roc_curve(test_labels, probabilities_ResNet50)\n",
    "\n",
    "auc_CNN = auc(fpr_CNN, tpr_CNN)\n",
    "auc_ShallowNN = auc(fpr_ShallowNN, tpr_ShallowNN)\n",
    "auc_ResNet50 = auc(fpr_ResNet50, tpr_ResNet50)"
   ]
  },
  {
   "cell_type": "code",
   "execution_count": null,
   "metadata": {},
   "outputs": [
    {
     "data": {
      "image/png": "[encoded data removed]",
      "text/plain": [
       "<Figure size 720x576 with 1 Axes>"
      ]
     },
     "metadata": {},
     "output_type": "display_data"
    }
   ],
   "source": [
    "plt.figure(figsize=(10, 8))\n",
    "\n",
    "\n",
    "plt.plot(fpr_CNN, tpr_CNN, label=f'CNN (AUC = {auc_CNN:.2f})')\n",
    "plt.plot(fpr_ShallowNN, tpr_ShallowNN, label=f'Shallow NN (AUC = {auc_ShallowNN:.2f})')\n",
    "plt.plot(fpr_ResNet50, tpr_ResNet50, label=f'ResNet50 (AUC = {auc_ResNet50:.2f})')\n",
    "\n",
    "plt.plot([0, 1], [0, 1], 'k--', label='Random (AUC = 0.50)')\n",
    "\n",
    "\n",
    "plt.xlabel('False Positive Rate')\n",
    "plt.ylabel('True Positive Rate')\n",
    "plt.title('ROC Curve Comparison of Models')\n",
    "plt.legend(loc='lower right')\n",
    "plt.show()"
   ]
  }
 ],
 "metadata": {
  "kernelspec": {
   "display_name": "Python 3",
   "language": "python",
   "name": "python3"
  },
  "language_info": {
   "codemirror_mode": {
    "name": "ipython",
    "version": 3
   },
   "file_extension": ".py",
   "mimetype": "text/x-python",
   "name": "python",
   "nbconvert_exporter": "python",
   "pygments_lexer": "ipython3",
   "version": "3.9.6"
  }
 },
 "nbformat": 4,
 "nbformat_minor": 2
}
